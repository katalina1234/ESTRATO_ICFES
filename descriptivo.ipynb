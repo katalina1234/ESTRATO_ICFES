{
  "nbformat": 4,
  "nbformat_minor": 0,
  "metadata": {
    "colab": {
      "name": "descriptivo.ipynb",
      "provenance": [],
      "collapsed_sections": []
    },
    "kernelspec": {
      "name": "python3",
      "display_name": "Python 3"
    },
    "language_info": {
      "name": "python"
    }
  },
  "cells": [
    {
      "cell_type": "code",
      "metadata": {
        "id": "ZxqJuYyHWDiU"
      },
      "source": [
        "import pandas as pd"
      ],
      "execution_count": 1,
      "outputs": []
    },
    {
      "cell_type": "code",
      "metadata": {
        "id": "3TJUxiut0Kq-"
      },
      "source": [
        "import matplotlib.pyplot as plt"
      ],
      "execution_count": 35,
      "outputs": []
    },
    {
      "cell_type": "code",
      "metadata": {
        "id": "fy4hdjYqWfl8"
      },
      "source": [
        "df = pd.read_excel('/content/Baseicfes.xlsx')"
      ],
      "execution_count": 3,
      "outputs": []
    },
    {
      "cell_type": "code",
      "metadata": {
        "colab": {
          "base_uri": "https://localhost:8080/"
        },
        "id": "_OBznODXXC2j",
        "outputId": "0b9e94d7-ce7f-4630-83df-da4a483b5763"
      },
      "source": [
        "a = sum(df['FAMI_ESTRATOVIVIENDA'] == 'Estrato 1')\n",
        "a"
      ],
      "execution_count": null,
      "outputs": [
        {
          "output_type": "execute_result",
          "data": {
            "text/plain": [
              "1956"
            ]
          },
          "metadata": {},
          "execution_count": 106
        }
      ]
    },
    {
      "cell_type": "code",
      "metadata": {
        "colab": {
          "base_uri": "https://localhost:8080/"
        },
        "id": "Bj5UggbSUtS-",
        "outputId": "8e6bbfa6-1680-4217-84bf-6228dbe525ff"
      },
      "source": [
        "b = sum(df['FAMI_ESTRATOVIVIENDA'] == 'Estrato 2')\n",
        "b"
      ],
      "execution_count": null,
      "outputs": [
        {
          "output_type": "execute_result",
          "data": {
            "text/plain": [
              "3871"
            ]
          },
          "metadata": {},
          "execution_count": 107
        }
      ]
    },
    {
      "cell_type": "code",
      "metadata": {
        "colab": {
          "base_uri": "https://localhost:8080/"
        },
        "id": "R4SpqF-ZXUr9",
        "outputId": "9a444eea-9375-403f-9ba9-23cef1e09587"
      },
      "source": [
        "1956 + 3871"
      ],
      "execution_count": null,
      "outputs": [
        {
          "output_type": "execute_result",
          "data": {
            "text/plain": [
              "5827"
            ]
          },
          "metadata": {},
          "execution_count": 108
        }
      ]
    },
    {
      "cell_type": "code",
      "metadata": {
        "id": "X2YO3PTAiaAq"
      },
      "source": [
        "df_1 = df.loc[:, 'FAMI_ESTRATOVIVIENDA'] == 'Estrato 1' \n",
        "df_11 = df.loc[df_1]\n"
      ],
      "execution_count": 4,
      "outputs": []
    },
    {
      "cell_type": "code",
      "metadata": {
        "id": "Nrf1mKeIWfTG"
      },
      "source": [
        "df_2 = df.loc[:, 'FAMI_ESTRATOVIVIENDA'] == 'Estrato 2' \n",
        "df_22 = df.loc[df_2]"
      ],
      "execution_count": 5,
      "outputs": []
    },
    {
      "cell_type": "code",
      "metadata": {
        "id": "FpacMTQpW2mO"
      },
      "source": [
        "Base = pd.concat([df_11,df_22])"
      ],
      "execution_count": 6,
      "outputs": []
    },
    {
      "cell_type": "code",
      "metadata": {
        "id": "NpNyyscEfiIq"
      },
      "source": [
        "Base_1 = Base.loc[:,['EDAD','ESTU_GENERO','ESTU_DEPTO_RESIDE','FAMI_EDUCACIONPADRE','FAMI_EDUCACIONMADRE','FAMI_TIENEINTERNET','FAMI_TIENECOMPUTADOR',\n",
        "'ESTU_DEDICACIONLECTURADIARIA', 'ESTU_HORASSEMANATRABAJA','COLE_BILINGUE', 'FAMI_COMECARNEPESCADOHUEVO','COLE_NATURALEZA','PUNT_GLOBAL']]"
      ],
      "execution_count": 7,
      "outputs": []
    },
    {
      "cell_type": "code",
      "metadata": {
        "id": "ZqrcpVJwf3Se"
      },
      "source": [
        "Base_1 = Base_1.dropna()"
      ],
      "execution_count": 8,
      "outputs": []
    },
    {
      "cell_type": "code",
      "metadata": {
        "id": "iTOhxGmqnaHM"
      },
      "source": [
        "Base_1 = Base_1.drop(Base_1[Base_1['EDAD']==119].index)"
      ],
      "execution_count": 9,
      "outputs": []
    },
    {
      "cell_type": "code",
      "metadata": {
        "id": "KDJoMqXluveF"
      },
      "source": [
        "Base_1 = Base_1.drop(Base_1[Base_1['EDAD']<8].index)"
      ],
      "execution_count": 10,
      "outputs": []
    },
    {
      "cell_type": "code",
      "metadata": {
        "colab": {
          "base_uri": "https://localhost:8080/",
          "height": 660
        },
        "id": "EezN9jn5u0ka",
        "outputId": "23a305a3-25df-4144-c19e-743857b6bd4d"
      },
      "source": [
        "Base_1"
      ],
      "execution_count": 11,
      "outputs": [
        {
          "output_type": "execute_result",
          "data": {
            "text/html": [
              "<div>\n",
              "<style scoped>\n",
              "    .dataframe tbody tr th:only-of-type {\n",
              "        vertical-align: middle;\n",
              "    }\n",
              "\n",
              "    .dataframe tbody tr th {\n",
              "        vertical-align: top;\n",
              "    }\n",
              "\n",
              "    .dataframe thead th {\n",
              "        text-align: right;\n",
              "    }\n",
              "</style>\n",
              "<table border=\"1\" class=\"dataframe\">\n",
              "  <thead>\n",
              "    <tr style=\"text-align: right;\">\n",
              "      <th></th>\n",
              "      <th>EDAD</th>\n",
              "      <th>ESTU_GENERO</th>\n",
              "      <th>ESTU_DEPTO_RESIDE</th>\n",
              "      <th>FAMI_EDUCACIONPADRE</th>\n",
              "      <th>FAMI_EDUCACIONMADRE</th>\n",
              "      <th>FAMI_TIENEINTERNET</th>\n",
              "      <th>FAMI_TIENECOMPUTADOR</th>\n",
              "      <th>ESTU_DEDICACIONLECTURADIARIA</th>\n",
              "      <th>ESTU_HORASSEMANATRABAJA</th>\n",
              "      <th>COLE_BILINGUE</th>\n",
              "      <th>FAMI_COMECARNEPESCADOHUEVO</th>\n",
              "      <th>COLE_NATURALEZA</th>\n",
              "      <th>PUNT_GLOBAL</th>\n",
              "    </tr>\n",
              "  </thead>\n",
              "  <tbody>\n",
              "    <tr>\n",
              "      <th>71</th>\n",
              "      <td>18</td>\n",
              "      <td>F</td>\n",
              "      <td>BOGOTA</td>\n",
              "      <td>Educacion profesional completa</td>\n",
              "      <td>Educacion profesional completa</td>\n",
              "      <td>Si</td>\n",
              "      <td>Si</td>\n",
              "      <td>Entre 1 y 2 horas</td>\n",
              "      <td>0</td>\n",
              "      <td>S</td>\n",
              "      <td>Todos o casi todos los dias</td>\n",
              "      <td>NO OFICIAL</td>\n",
              "      <td>338</td>\n",
              "    </tr>\n",
              "    <tr>\n",
              "      <th>157</th>\n",
              "      <td>30</td>\n",
              "      <td>F</td>\n",
              "      <td>BOGOTA</td>\n",
              "      <td>Ninguno</td>\n",
              "      <td>Secundaria (Bachillerato) completa</td>\n",
              "      <td>Si</td>\n",
              "      <td>Si</td>\n",
              "      <td>30 minutos o menos</td>\n",
              "      <td>0</td>\n",
              "      <td>N</td>\n",
              "      <td>1 o 2 veces por semana</td>\n",
              "      <td>NO OFICIAL</td>\n",
              "      <td>235</td>\n",
              "    </tr>\n",
              "    <tr>\n",
              "      <th>159</th>\n",
              "      <td>19</td>\n",
              "      <td>M</td>\n",
              "      <td>BOGOTA</td>\n",
              "      <td>No sabe</td>\n",
              "      <td>Secundaria (Bachillerato) incompleta</td>\n",
              "      <td>Si</td>\n",
              "      <td>Si</td>\n",
              "      <td>No leo por entretenimiento</td>\n",
              "      <td>Entre 11 y 20 horas</td>\n",
              "      <td>N</td>\n",
              "      <td>Todos o casi todos los dias</td>\n",
              "      <td>NO OFICIAL</td>\n",
              "      <td>268</td>\n",
              "    </tr>\n",
              "    <tr>\n",
              "      <th>161</th>\n",
              "      <td>11</td>\n",
              "      <td>F</td>\n",
              "      <td>CUNDINAMARCA</td>\n",
              "      <td>Ninguno</td>\n",
              "      <td>Primaria completa</td>\n",
              "      <td>Si</td>\n",
              "      <td>Si</td>\n",
              "      <td>30 minutos o menos</td>\n",
              "      <td>mas de 30 horas</td>\n",
              "      <td>N</td>\n",
              "      <td>Todos o casi todos los dias</td>\n",
              "      <td>NO OFICIAL</td>\n",
              "      <td>188</td>\n",
              "    </tr>\n",
              "    <tr>\n",
              "      <th>188</th>\n",
              "      <td>18</td>\n",
              "      <td>F</td>\n",
              "      <td>BOGOTA</td>\n",
              "      <td>Secundaria (Bachillerato) incompleta</td>\n",
              "      <td>Educacion profesional incompleta</td>\n",
              "      <td>Si</td>\n",
              "      <td>Si</td>\n",
              "      <td>Entre 30 y 60 minutos</td>\n",
              "      <td>0</td>\n",
              "      <td>N</td>\n",
              "      <td>Todos o casi todos los dias</td>\n",
              "      <td>NO OFICIAL</td>\n",
              "      <td>320</td>\n",
              "    </tr>\n",
              "    <tr>\n",
              "      <th>...</th>\n",
              "      <td>...</td>\n",
              "      <td>...</td>\n",
              "      <td>...</td>\n",
              "      <td>...</td>\n",
              "      <td>...</td>\n",
              "      <td>...</td>\n",
              "      <td>...</td>\n",
              "      <td>...</td>\n",
              "      <td>...</td>\n",
              "      <td>...</td>\n",
              "      <td>...</td>\n",
              "      <td>...</td>\n",
              "      <td>...</td>\n",
              "    </tr>\n",
              "    <tr>\n",
              "      <th>20871</th>\n",
              "      <td>19</td>\n",
              "      <td>M</td>\n",
              "      <td>BOGOTA</td>\n",
              "      <td>Tecnica o tecnologica incompleta</td>\n",
              "      <td>Educacion profesional completa</td>\n",
              "      <td>Si</td>\n",
              "      <td>Si</td>\n",
              "      <td>Entre 30 y 60 minutos</td>\n",
              "      <td>0</td>\n",
              "      <td>N</td>\n",
              "      <td>Nunca o rara vez comemos eso</td>\n",
              "      <td>NO OFICIAL</td>\n",
              "      <td>255</td>\n",
              "    </tr>\n",
              "    <tr>\n",
              "      <th>20873</th>\n",
              "      <td>25</td>\n",
              "      <td>F</td>\n",
              "      <td>BOGOTA</td>\n",
              "      <td>Secundaria (Bachillerato) incompleta</td>\n",
              "      <td>Secundaria (Bachillerato) incompleta</td>\n",
              "      <td>Si</td>\n",
              "      <td>Si</td>\n",
              "      <td>30 minutos o menos</td>\n",
              "      <td>0</td>\n",
              "      <td>N</td>\n",
              "      <td>Todos o casi todos los dias</td>\n",
              "      <td>NO OFICIAL</td>\n",
              "      <td>179</td>\n",
              "    </tr>\n",
              "    <tr>\n",
              "      <th>20875</th>\n",
              "      <td>18</td>\n",
              "      <td>F</td>\n",
              "      <td>BOGOTA</td>\n",
              "      <td>No sabe</td>\n",
              "      <td>Secundaria (Bachillerato) completa</td>\n",
              "      <td>Si</td>\n",
              "      <td>Si</td>\n",
              "      <td>30 minutos o menos</td>\n",
              "      <td>0</td>\n",
              "      <td>N</td>\n",
              "      <td>Todos o casi todos los dias</td>\n",
              "      <td>NO OFICIAL</td>\n",
              "      <td>232</td>\n",
              "    </tr>\n",
              "    <tr>\n",
              "      <th>20878</th>\n",
              "      <td>19</td>\n",
              "      <td>M</td>\n",
              "      <td>BOGOTA</td>\n",
              "      <td>Educacion profesional completa</td>\n",
              "      <td>Secundaria (Bachillerato) completa</td>\n",
              "      <td>Si</td>\n",
              "      <td>Si</td>\n",
              "      <td>No leo por entretenimiento</td>\n",
              "      <td>Entre 11 y 20 horas</td>\n",
              "      <td>N</td>\n",
              "      <td>Todos o casi todos los dias</td>\n",
              "      <td>NO OFICIAL</td>\n",
              "      <td>247</td>\n",
              "    </tr>\n",
              "    <tr>\n",
              "      <th>20879</th>\n",
              "      <td>19</td>\n",
              "      <td>F</td>\n",
              "      <td>BOGOTA</td>\n",
              "      <td>Secundaria (Bachillerato) incompleta</td>\n",
              "      <td>Primaria incompleta</td>\n",
              "      <td>No</td>\n",
              "      <td>No</td>\n",
              "      <td>30 minutos o menos</td>\n",
              "      <td>0</td>\n",
              "      <td>N</td>\n",
              "      <td>1 o 2 veces por semana</td>\n",
              "      <td>NO OFICIAL</td>\n",
              "      <td>232</td>\n",
              "    </tr>\n",
              "  </tbody>\n",
              "</table>\n",
              "<p>4055 rows × 13 columns</p>\n",
              "</div>"
            ],
            "text/plain": [
              "       EDAD ESTU_GENERO  ... COLE_NATURALEZA PUNT_GLOBAL\n",
              "71       18           F  ...      NO OFICIAL         338\n",
              "157      30           F  ...      NO OFICIAL         235\n",
              "159      19           M  ...      NO OFICIAL         268\n",
              "161      11           F  ...      NO OFICIAL         188\n",
              "188      18           F  ...      NO OFICIAL         320\n",
              "...     ...         ...  ...             ...         ...\n",
              "20871    19           M  ...      NO OFICIAL         255\n",
              "20873    25           F  ...      NO OFICIAL         179\n",
              "20875    18           F  ...      NO OFICIAL         232\n",
              "20878    19           M  ...      NO OFICIAL         247\n",
              "20879    19           F  ...      NO OFICIAL         232\n",
              "\n",
              "[4055 rows x 13 columns]"
            ]
          },
          "metadata": {},
          "execution_count": 11
        }
      ]
    },
    {
      "cell_type": "code",
      "metadata": {
        "colab": {
          "base_uri": "https://localhost:8080/",
          "height": 297
        },
        "id": "lYMrGqkDgZtd",
        "outputId": "dea2d131-2c5f-40d2-adb7-0618e9c1ed52"
      },
      "source": [
        "Base_1.describe()"
      ],
      "execution_count": null,
      "outputs": [
        {
          "output_type": "execute_result",
          "data": {
            "text/html": [
              "<div>\n",
              "<style scoped>\n",
              "    .dataframe tbody tr th:only-of-type {\n",
              "        vertical-align: middle;\n",
              "    }\n",
              "\n",
              "    .dataframe tbody tr th {\n",
              "        vertical-align: top;\n",
              "    }\n",
              "\n",
              "    .dataframe thead th {\n",
              "        text-align: right;\n",
              "    }\n",
              "</style>\n",
              "<table border=\"1\" class=\"dataframe\">\n",
              "  <thead>\n",
              "    <tr style=\"text-align: right;\">\n",
              "      <th></th>\n",
              "      <th>EDAD</th>\n",
              "      <th>PUNT_GLOBAL</th>\n",
              "    </tr>\n",
              "  </thead>\n",
              "  <tbody>\n",
              "    <tr>\n",
              "      <th>count</th>\n",
              "      <td>4078.000000</td>\n",
              "      <td>4078.000000</td>\n",
              "    </tr>\n",
              "    <tr>\n",
              "      <th>mean</th>\n",
              "      <td>20.769740</td>\n",
              "      <td>241.504169</td>\n",
              "    </tr>\n",
              "    <tr>\n",
              "      <th>std</th>\n",
              "      <td>8.599456</td>\n",
              "      <td>52.864318</td>\n",
              "    </tr>\n",
              "    <tr>\n",
              "      <th>min</th>\n",
              "      <td>1.000000</td>\n",
              "      <td>123.000000</td>\n",
              "    </tr>\n",
              "    <tr>\n",
              "      <th>25%</th>\n",
              "      <td>17.000000</td>\n",
              "      <td>200.000000</td>\n",
              "    </tr>\n",
              "    <tr>\n",
              "      <th>50%</th>\n",
              "      <td>18.000000</td>\n",
              "      <td>234.000000</td>\n",
              "    </tr>\n",
              "    <tr>\n",
              "      <th>75%</th>\n",
              "      <td>20.000000</td>\n",
              "      <td>278.000000</td>\n",
              "    </tr>\n",
              "    <tr>\n",
              "      <th>max</th>\n",
              "      <td>119.000000</td>\n",
              "      <td>422.000000</td>\n",
              "    </tr>\n",
              "  </tbody>\n",
              "</table>\n",
              "</div>"
            ],
            "text/plain": [
              "              EDAD  PUNT_GLOBAL\n",
              "count  4078.000000  4078.000000\n",
              "mean     20.769740   241.504169\n",
              "std       8.599456    52.864318\n",
              "min       1.000000   123.000000\n",
              "25%      17.000000   200.000000\n",
              "50%      18.000000   234.000000\n",
              "75%      20.000000   278.000000\n",
              "max     119.000000   422.000000"
            ]
          },
          "metadata": {},
          "execution_count": 267
        }
      ]
    },
    {
      "cell_type": "code",
      "metadata": {
        "id": "u62uZziOmF7z"
      },
      "source": [
        "Base_1.loc[df['ESTU_HORASSEMANATRABAJA'] == 0, 'ESTU_HORASSEMANATRABAJA'] = 'cero'"
      ],
      "execution_count": null,
      "outputs": []
    },
    {
      "cell_type": "code",
      "metadata": {
        "id": "-UiQRBgpEoy7"
      },
      "source": [
        "#EL MINIMO PUNTAJE ALCANZADO PARA LOS ESTRATOS 1 Y 2 ES DE 123 PUNTOS. EL MAYOR PUNTAJE ALCANZADO FUE DE 422 PUNTOS."
      ],
      "execution_count": null,
      "outputs": []
    },
    {
      "cell_type": "code",
      "metadata": {
        "id": "-QIejDG1HNBg"
      },
      "source": [
        "#EL PROMEDIO DE LOS PUNTAJES OBTENIDOS EN EL ICFES PARA LOS ESTUDIANTES QUIENES SE ENCUENTRAN EN EL ESTRATO 1 Y 2 ES DE 242 PUNTOS."
      ],
      "execution_count": null,
      "outputs": []
    },
    {
      "cell_type": "code",
      "metadata": {
        "id": "pnHAPq-rCoBC"
      },
      "source": [
        "#POR DEPARTAMENTO Y PUNTAJE GLOBAL"
      ],
      "execution_count": null,
      "outputs": []
    },
    {
      "cell_type": "code",
      "metadata": {
        "colab": {
          "base_uri": "https://localhost:8080/",
          "height": 419
        },
        "id": "k-j5hY3SJLMi",
        "outputId": "ffa26a5b-a808-4e07-98fa-3e0b0fe034e7"
      },
      "source": [
        "Base_2 = Base_1.loc[:,['ESTU_DEPTO_RESIDE', 'PUNT_GLOBAL']]\n",
        "Base_2"
      ],
      "execution_count": null,
      "outputs": [
        {
          "output_type": "execute_result",
          "data": {
            "text/html": [
              "<div>\n",
              "<style scoped>\n",
              "    .dataframe tbody tr th:only-of-type {\n",
              "        vertical-align: middle;\n",
              "    }\n",
              "\n",
              "    .dataframe tbody tr th {\n",
              "        vertical-align: top;\n",
              "    }\n",
              "\n",
              "    .dataframe thead th {\n",
              "        text-align: right;\n",
              "    }\n",
              "</style>\n",
              "<table border=\"1\" class=\"dataframe\">\n",
              "  <thead>\n",
              "    <tr style=\"text-align: right;\">\n",
              "      <th></th>\n",
              "      <th>ESTU_DEPTO_RESIDE</th>\n",
              "      <th>PUNT_GLOBAL</th>\n",
              "    </tr>\n",
              "  </thead>\n",
              "  <tbody>\n",
              "    <tr>\n",
              "      <th>71</th>\n",
              "      <td>BOGOTA</td>\n",
              "      <td>338</td>\n",
              "    </tr>\n",
              "    <tr>\n",
              "      <th>157</th>\n",
              "      <td>BOGOTA</td>\n",
              "      <td>235</td>\n",
              "    </tr>\n",
              "    <tr>\n",
              "      <th>159</th>\n",
              "      <td>BOGOTA</td>\n",
              "      <td>268</td>\n",
              "    </tr>\n",
              "    <tr>\n",
              "      <th>161</th>\n",
              "      <td>CUNDINAMARCA</td>\n",
              "      <td>188</td>\n",
              "    </tr>\n",
              "    <tr>\n",
              "      <th>188</th>\n",
              "      <td>BOGOTA</td>\n",
              "      <td>320</td>\n",
              "    </tr>\n",
              "    <tr>\n",
              "      <th>...</th>\n",
              "      <td>...</td>\n",
              "      <td>...</td>\n",
              "    </tr>\n",
              "    <tr>\n",
              "      <th>20871</th>\n",
              "      <td>BOGOTA</td>\n",
              "      <td>255</td>\n",
              "    </tr>\n",
              "    <tr>\n",
              "      <th>20873</th>\n",
              "      <td>BOGOTA</td>\n",
              "      <td>179</td>\n",
              "    </tr>\n",
              "    <tr>\n",
              "      <th>20875</th>\n",
              "      <td>BOGOTA</td>\n",
              "      <td>232</td>\n",
              "    </tr>\n",
              "    <tr>\n",
              "      <th>20878</th>\n",
              "      <td>BOGOTA</td>\n",
              "      <td>247</td>\n",
              "    </tr>\n",
              "    <tr>\n",
              "      <th>20879</th>\n",
              "      <td>BOGOTA</td>\n",
              "      <td>232</td>\n",
              "    </tr>\n",
              "  </tbody>\n",
              "</table>\n",
              "<p>4078 rows × 2 columns</p>\n",
              "</div>"
            ],
            "text/plain": [
              "      ESTU_DEPTO_RESIDE  PUNT_GLOBAL\n",
              "71               BOGOTA          338\n",
              "157              BOGOTA          235\n",
              "159              BOGOTA          268\n",
              "161        CUNDINAMARCA          188\n",
              "188              BOGOTA          320\n",
              "...                 ...          ...\n",
              "20871            BOGOTA          255\n",
              "20873            BOGOTA          179\n",
              "20875            BOGOTA          232\n",
              "20878            BOGOTA          247\n",
              "20879            BOGOTA          232\n",
              "\n",
              "[4078 rows x 2 columns]"
            ]
          },
          "metadata": {},
          "execution_count": 268
        }
      ]
    },
    {
      "cell_type": "code",
      "metadata": {
        "id": "7jr_HmUhFRpq"
      },
      "source": [
        "grouped_data = Base_2.groupby('ESTU_DEPTO_RESIDE')\n",
        "\n",
        "                       "
      ],
      "execution_count": null,
      "outputs": []
    },
    {
      "cell_type": "code",
      "metadata": {
        "colab": {
          "base_uri": "https://localhost:8080/",
          "height": 1000
        },
        "id": "_nLi4MuHGq5K",
        "outputId": "d64ccf6e-04a3-426b-ea90-fa70b139c9e4"
      },
      "source": [
        "grouped_data.describe()"
      ],
      "execution_count": null,
      "outputs": [
        {
          "output_type": "execute_result",
          "data": {
            "text/html": [
              "<div>\n",
              "<style scoped>\n",
              "    .dataframe tbody tr th:only-of-type {\n",
              "        vertical-align: middle;\n",
              "    }\n",
              "\n",
              "    .dataframe tbody tr th {\n",
              "        vertical-align: top;\n",
              "    }\n",
              "\n",
              "    .dataframe thead tr th {\n",
              "        text-align: left;\n",
              "    }\n",
              "\n",
              "    .dataframe thead tr:last-of-type th {\n",
              "        text-align: right;\n",
              "    }\n",
              "</style>\n",
              "<table border=\"1\" class=\"dataframe\">\n",
              "  <thead>\n",
              "    <tr>\n",
              "      <th></th>\n",
              "      <th colspan=\"8\" halign=\"left\">PUNT_GLOBAL</th>\n",
              "    </tr>\n",
              "    <tr>\n",
              "      <th></th>\n",
              "      <th>count</th>\n",
              "      <th>mean</th>\n",
              "      <th>std</th>\n",
              "      <th>min</th>\n",
              "      <th>25%</th>\n",
              "      <th>50%</th>\n",
              "      <th>75%</th>\n",
              "      <th>max</th>\n",
              "    </tr>\n",
              "    <tr>\n",
              "      <th>ESTU_DEPTO_RESIDE</th>\n",
              "      <th></th>\n",
              "      <th></th>\n",
              "      <th></th>\n",
              "      <th></th>\n",
              "      <th></th>\n",
              "      <th></th>\n",
              "      <th></th>\n",
              "      <th></th>\n",
              "    </tr>\n",
              "  </thead>\n",
              "  <tbody>\n",
              "    <tr>\n",
              "      <th>ANTIOQUIA</th>\n",
              "      <td>566.0</td>\n",
              "      <td>211.553004</td>\n",
              "      <td>40.626943</td>\n",
              "      <td>137.0</td>\n",
              "      <td>180.00</td>\n",
              "      <td>203.0</td>\n",
              "      <td>236.00</td>\n",
              "      <td>344.0</td>\n",
              "    </tr>\n",
              "    <tr>\n",
              "      <th>ARAUCA</th>\n",
              "      <td>34.0</td>\n",
              "      <td>217.147059</td>\n",
              "      <td>39.036993</td>\n",
              "      <td>152.0</td>\n",
              "      <td>184.00</td>\n",
              "      <td>214.0</td>\n",
              "      <td>240.00</td>\n",
              "      <td>300.0</td>\n",
              "    </tr>\n",
              "    <tr>\n",
              "      <th>ATLANTICO</th>\n",
              "      <td>61.0</td>\n",
              "      <td>212.032787</td>\n",
              "      <td>43.778597</td>\n",
              "      <td>135.0</td>\n",
              "      <td>183.00</td>\n",
              "      <td>203.0</td>\n",
              "      <td>238.00</td>\n",
              "      <td>334.0</td>\n",
              "    </tr>\n",
              "    <tr>\n",
              "      <th>BOGOTA</th>\n",
              "      <td>752.0</td>\n",
              "      <td>233.401596</td>\n",
              "      <td>44.636313</td>\n",
              "      <td>123.0</td>\n",
              "      <td>200.00</td>\n",
              "      <td>230.0</td>\n",
              "      <td>257.25</td>\n",
              "      <td>399.0</td>\n",
              "    </tr>\n",
              "    <tr>\n",
              "      <th>BOLIVAR</th>\n",
              "      <td>43.0</td>\n",
              "      <td>230.139535</td>\n",
              "      <td>50.866109</td>\n",
              "      <td>160.0</td>\n",
              "      <td>190.50</td>\n",
              "      <td>223.0</td>\n",
              "      <td>257.00</td>\n",
              "      <td>405.0</td>\n",
              "    </tr>\n",
              "    <tr>\n",
              "      <th>BOYACA</th>\n",
              "      <td>66.0</td>\n",
              "      <td>241.878788</td>\n",
              "      <td>38.562044</td>\n",
              "      <td>152.0</td>\n",
              "      <td>213.25</td>\n",
              "      <td>242.5</td>\n",
              "      <td>257.75</td>\n",
              "      <td>325.0</td>\n",
              "    </tr>\n",
              "    <tr>\n",
              "      <th>CALDAS</th>\n",
              "      <td>73.0</td>\n",
              "      <td>214.493151</td>\n",
              "      <td>36.347139</td>\n",
              "      <td>150.0</td>\n",
              "      <td>186.00</td>\n",
              "      <td>215.0</td>\n",
              "      <td>236.00</td>\n",
              "      <td>320.0</td>\n",
              "    </tr>\n",
              "    <tr>\n",
              "      <th>CAQUETA</th>\n",
              "      <td>36.0</td>\n",
              "      <td>212.916667</td>\n",
              "      <td>36.629711</td>\n",
              "      <td>160.0</td>\n",
              "      <td>186.75</td>\n",
              "      <td>207.5</td>\n",
              "      <td>234.50</td>\n",
              "      <td>285.0</td>\n",
              "    </tr>\n",
              "    <tr>\n",
              "      <th>CASANARE</th>\n",
              "      <td>14.0</td>\n",
              "      <td>240.714286</td>\n",
              "      <td>39.658986</td>\n",
              "      <td>178.0</td>\n",
              "      <td>213.25</td>\n",
              "      <td>232.0</td>\n",
              "      <td>270.25</td>\n",
              "      <td>307.0</td>\n",
              "    </tr>\n",
              "    <tr>\n",
              "      <th>CAUCA</th>\n",
              "      <td>225.0</td>\n",
              "      <td>256.155556</td>\n",
              "      <td>55.823204</td>\n",
              "      <td>148.0</td>\n",
              "      <td>211.00</td>\n",
              "      <td>256.0</td>\n",
              "      <td>296.00</td>\n",
              "      <td>387.0</td>\n",
              "    </tr>\n",
              "    <tr>\n",
              "      <th>CESAR</th>\n",
              "      <td>61.0</td>\n",
              "      <td>202.508197</td>\n",
              "      <td>36.139370</td>\n",
              "      <td>148.0</td>\n",
              "      <td>178.00</td>\n",
              "      <td>195.0</td>\n",
              "      <td>213.00</td>\n",
              "      <td>309.0</td>\n",
              "    </tr>\n",
              "    <tr>\n",
              "      <th>CHOCO</th>\n",
              "      <td>3.0</td>\n",
              "      <td>218.666667</td>\n",
              "      <td>40.698075</td>\n",
              "      <td>183.0</td>\n",
              "      <td>196.50</td>\n",
              "      <td>210.0</td>\n",
              "      <td>236.50</td>\n",
              "      <td>263.0</td>\n",
              "    </tr>\n",
              "    <tr>\n",
              "      <th>CORDOBA</th>\n",
              "      <td>3.0</td>\n",
              "      <td>288.000000</td>\n",
              "      <td>71.140706</td>\n",
              "      <td>212.0</td>\n",
              "      <td>255.50</td>\n",
              "      <td>299.0</td>\n",
              "      <td>326.00</td>\n",
              "      <td>353.0</td>\n",
              "    </tr>\n",
              "    <tr>\n",
              "      <th>CUNDINAMARCA</th>\n",
              "      <td>269.0</td>\n",
              "      <td>225.260223</td>\n",
              "      <td>44.154317</td>\n",
              "      <td>146.0</td>\n",
              "      <td>190.00</td>\n",
              "      <td>217.0</td>\n",
              "      <td>250.00</td>\n",
              "      <td>370.0</td>\n",
              "    </tr>\n",
              "    <tr>\n",
              "      <th>GUAINIA</th>\n",
              "      <td>10.0</td>\n",
              "      <td>227.800000</td>\n",
              "      <td>39.411786</td>\n",
              "      <td>145.0</td>\n",
              "      <td>211.25</td>\n",
              "      <td>226.5</td>\n",
              "      <td>247.25</td>\n",
              "      <td>290.0</td>\n",
              "    </tr>\n",
              "    <tr>\n",
              "      <th>HUILA</th>\n",
              "      <td>100.0</td>\n",
              "      <td>221.590000</td>\n",
              "      <td>36.194786</td>\n",
              "      <td>147.0</td>\n",
              "      <td>195.75</td>\n",
              "      <td>214.5</td>\n",
              "      <td>242.25</td>\n",
              "      <td>327.0</td>\n",
              "    </tr>\n",
              "    <tr>\n",
              "      <th>LA GUAJIRA</th>\n",
              "      <td>9.0</td>\n",
              "      <td>239.666667</td>\n",
              "      <td>67.721858</td>\n",
              "      <td>145.0</td>\n",
              "      <td>201.00</td>\n",
              "      <td>214.0</td>\n",
              "      <td>317.00</td>\n",
              "      <td>335.0</td>\n",
              "    </tr>\n",
              "    <tr>\n",
              "      <th>MAGDALENA</th>\n",
              "      <td>14.0</td>\n",
              "      <td>198.428571</td>\n",
              "      <td>28.405618</td>\n",
              "      <td>167.0</td>\n",
              "      <td>178.50</td>\n",
              "      <td>194.5</td>\n",
              "      <td>203.50</td>\n",
              "      <td>264.0</td>\n",
              "    </tr>\n",
              "    <tr>\n",
              "      <th>META</th>\n",
              "      <td>36.0</td>\n",
              "      <td>212.611111</td>\n",
              "      <td>34.568588</td>\n",
              "      <td>155.0</td>\n",
              "      <td>185.00</td>\n",
              "      <td>208.0</td>\n",
              "      <td>238.00</td>\n",
              "      <td>292.0</td>\n",
              "    </tr>\n",
              "    <tr>\n",
              "      <th>NARINO</th>\n",
              "      <td>208.0</td>\n",
              "      <td>269.980769</td>\n",
              "      <td>55.846145</td>\n",
              "      <td>136.0</td>\n",
              "      <td>226.00</td>\n",
              "      <td>268.5</td>\n",
              "      <td>317.00</td>\n",
              "      <td>422.0</td>\n",
              "    </tr>\n",
              "    <tr>\n",
              "      <th>NORTE SANTANDER</th>\n",
              "      <td>80.0</td>\n",
              "      <td>217.650000</td>\n",
              "      <td>38.407574</td>\n",
              "      <td>141.0</td>\n",
              "      <td>191.50</td>\n",
              "      <td>212.0</td>\n",
              "      <td>236.25</td>\n",
              "      <td>330.0</td>\n",
              "    </tr>\n",
              "    <tr>\n",
              "      <th>PUTUMAYO</th>\n",
              "      <td>9.0</td>\n",
              "      <td>208.000000</td>\n",
              "      <td>41.740268</td>\n",
              "      <td>150.0</td>\n",
              "      <td>168.00</td>\n",
              "      <td>208.0</td>\n",
              "      <td>233.00</td>\n",
              "      <td>275.0</td>\n",
              "    </tr>\n",
              "    <tr>\n",
              "      <th>QUINDIO</th>\n",
              "      <td>7.0</td>\n",
              "      <td>222.142857</td>\n",
              "      <td>38.636893</td>\n",
              "      <td>171.0</td>\n",
              "      <td>193.00</td>\n",
              "      <td>227.0</td>\n",
              "      <td>246.50</td>\n",
              "      <td>278.0</td>\n",
              "    </tr>\n",
              "    <tr>\n",
              "      <th>RISARALDA</th>\n",
              "      <td>39.0</td>\n",
              "      <td>219.282051</td>\n",
              "      <td>44.830645</td>\n",
              "      <td>149.0</td>\n",
              "      <td>191.00</td>\n",
              "      <td>209.0</td>\n",
              "      <td>236.50</td>\n",
              "      <td>382.0</td>\n",
              "    </tr>\n",
              "    <tr>\n",
              "      <th>SANTANDER</th>\n",
              "      <td>65.0</td>\n",
              "      <td>232.876923</td>\n",
              "      <td>43.166287</td>\n",
              "      <td>153.0</td>\n",
              "      <td>200.00</td>\n",
              "      <td>232.0</td>\n",
              "      <td>259.00</td>\n",
              "      <td>363.0</td>\n",
              "    </tr>\n",
              "    <tr>\n",
              "      <th>SUCRE</th>\n",
              "      <td>15.0</td>\n",
              "      <td>227.800000</td>\n",
              "      <td>37.021615</td>\n",
              "      <td>154.0</td>\n",
              "      <td>209.00</td>\n",
              "      <td>217.0</td>\n",
              "      <td>251.50</td>\n",
              "      <td>307.0</td>\n",
              "    </tr>\n",
              "    <tr>\n",
              "      <th>TOLIMA</th>\n",
              "      <td>49.0</td>\n",
              "      <td>217.489796</td>\n",
              "      <td>28.717824</td>\n",
              "      <td>165.0</td>\n",
              "      <td>200.00</td>\n",
              "      <td>213.0</td>\n",
              "      <td>235.00</td>\n",
              "      <td>292.0</td>\n",
              "    </tr>\n",
              "    <tr>\n",
              "      <th>VALLE</th>\n",
              "      <td>1229.0</td>\n",
              "      <td>270.484133</td>\n",
              "      <td>53.336121</td>\n",
              "      <td>143.0</td>\n",
              "      <td>230.00</td>\n",
              "      <td>273.0</td>\n",
              "      <td>312.00</td>\n",
              "      <td>407.0</td>\n",
              "    </tr>\n",
              "    <tr>\n",
              "      <th>VICHADA</th>\n",
              "      <td>2.0</td>\n",
              "      <td>207.500000</td>\n",
              "      <td>34.648232</td>\n",
              "      <td>183.0</td>\n",
              "      <td>195.25</td>\n",
              "      <td>207.5</td>\n",
              "      <td>219.75</td>\n",
              "      <td>232.0</td>\n",
              "    </tr>\n",
              "  </tbody>\n",
              "</table>\n",
              "</div>"
            ],
            "text/plain": [
              "                  PUNT_GLOBAL                         ...                      \n",
              "                        count        mean        std  ...    50%     75%    max\n",
              "ESTU_DEPTO_RESIDE                                     ...                      \n",
              "ANTIOQUIA               566.0  211.553004  40.626943  ...  203.0  236.00  344.0\n",
              "ARAUCA                   34.0  217.147059  39.036993  ...  214.0  240.00  300.0\n",
              "ATLANTICO                61.0  212.032787  43.778597  ...  203.0  238.00  334.0\n",
              "BOGOTA                  752.0  233.401596  44.636313  ...  230.0  257.25  399.0\n",
              "BOLIVAR                  43.0  230.139535  50.866109  ...  223.0  257.00  405.0\n",
              "BOYACA                   66.0  241.878788  38.562044  ...  242.5  257.75  325.0\n",
              "CALDAS                   73.0  214.493151  36.347139  ...  215.0  236.00  320.0\n",
              "CAQUETA                  36.0  212.916667  36.629711  ...  207.5  234.50  285.0\n",
              "CASANARE                 14.0  240.714286  39.658986  ...  232.0  270.25  307.0\n",
              "CAUCA                   225.0  256.155556  55.823204  ...  256.0  296.00  387.0\n",
              "CESAR                    61.0  202.508197  36.139370  ...  195.0  213.00  309.0\n",
              "CHOCO                     3.0  218.666667  40.698075  ...  210.0  236.50  263.0\n",
              "CORDOBA                   3.0  288.000000  71.140706  ...  299.0  326.00  353.0\n",
              "CUNDINAMARCA            269.0  225.260223  44.154317  ...  217.0  250.00  370.0\n",
              "GUAINIA                  10.0  227.800000  39.411786  ...  226.5  247.25  290.0\n",
              "HUILA                   100.0  221.590000  36.194786  ...  214.5  242.25  327.0\n",
              "LA GUAJIRA                9.0  239.666667  67.721858  ...  214.0  317.00  335.0\n",
              "MAGDALENA                14.0  198.428571  28.405618  ...  194.5  203.50  264.0\n",
              "META                     36.0  212.611111  34.568588  ...  208.0  238.00  292.0\n",
              "NARINO                  208.0  269.980769  55.846145  ...  268.5  317.00  422.0\n",
              "NORTE SANTANDER          80.0  217.650000  38.407574  ...  212.0  236.25  330.0\n",
              "PUTUMAYO                  9.0  208.000000  41.740268  ...  208.0  233.00  275.0\n",
              "QUINDIO                   7.0  222.142857  38.636893  ...  227.0  246.50  278.0\n",
              "RISARALDA                39.0  219.282051  44.830645  ...  209.0  236.50  382.0\n",
              "SANTANDER                65.0  232.876923  43.166287  ...  232.0  259.00  363.0\n",
              "SUCRE                    15.0  227.800000  37.021615  ...  217.0  251.50  307.0\n",
              "TOLIMA                   49.0  217.489796  28.717824  ...  213.0  235.00  292.0\n",
              "VALLE                  1229.0  270.484133  53.336121  ...  273.0  312.00  407.0\n",
              "VICHADA                   2.0  207.500000  34.648232  ...  207.5  219.75  232.0\n",
              "\n",
              "[29 rows x 8 columns]"
            ]
          },
          "metadata": {},
          "execution_count": 270
        }
      ]
    },
    {
      "cell_type": "code",
      "metadata": {
        "id": "7puzc63qJAM8"
      },
      "source": [
        "#EL DEPARTAMENTO QUE OBTUVO EL MAYOR PUNTAJE EN PROMEDIO FUE EL VALLE CON UN PUNTUACION GLOBAL IGUAL A 270. \n",
        "#[CORDOBA OBTUVO UN MAYOR PUNTAJE EQUIVALENTE A 288, SIN EMBARGO, SOLAMENTE HAY 3 ESTUDIANTES EVALUADOS PARA ESE DEPARTAMENTO]\n",
        "#EL DEPARTAMENTO QUE OBTUVO EL MENOR PUNTAJE EN PROMEDIO FUE MAGDALENA CON UN PUNTUACION GLOBAL IGUAL A 198.\n",
        "#PARA LOS DEPARTAMENTOS DONDE SE ENCUENTRA GRAN PARTE DE LA POBLACION SE PUEDE DECIR QUE:\n",
        "#LA CAPITAL DE COLOMBIA, BOGOTÁ, CUENTA CON 751 ESTUDIANTES QUIENES SE ENCUENTRAN EN LOS ESTRATOS 1 Y 2\n",
        "#PARA ESTE ESTUDIO. EL PUNTAJE PROMEDIO FUE IGUAL A 233 PUNTOS. PARA EL DEPARTAMENTO DE ANTIOQUIA CON 564\n",
        "#ESTUDIANTES OBTUVO UNA PUNTUACION PROMEDIO IGUAL A 212 PUNTOS. FINALMENTE SE PUEDE DECIR QUE EL VALLE CON \n",
        "#UNA POBLACION IGUAL A 1228 ESTUDIANTES DE ESTRATOS 1 Y 2 TIENEN LA MEJOR PUNTUACION EN PROMEDIO COMPARANDO CON \n",
        "#LOS DEMAS DEPARTAMENTOS."
      ],
      "execution_count": null,
      "outputs": []
    },
    {
      "cell_type": "code",
      "metadata": {
        "id": "CU_tDFjWOm_u"
      },
      "source": [
        "#GRAFICAS PUNTAJE GLOBAL"
      ],
      "execution_count": null,
      "outputs": []
    },
    {
      "cell_type": "code",
      "metadata": {
        "colab": {
          "base_uri": "https://localhost:8080/"
        },
        "id": "Nr1cqgOeRa7i",
        "outputId": "082d3b82-f64f-4f41-f60d-b398c3f282b5"
      },
      "source": [
        "(2098/4078)*100 #MUJERES"
      ],
      "execution_count": null,
      "outputs": [
        {
          "output_type": "execute_result",
          "data": {
            "text/plain": [
              "51.44678764100049"
            ]
          },
          "metadata": {},
          "execution_count": 277
        }
      ]
    },
    {
      "cell_type": "code",
      "metadata": {
        "colab": {
          "base_uri": "https://localhost:8080/"
        },
        "id": "RB6cE7o_Rkm8",
        "outputId": "18b1d7c6-4226-42a9-e9ad-cb175a1230a5"
      },
      "source": [
        "(1980/4078)*100 #HOMBRES"
      ],
      "execution_count": null,
      "outputs": [
        {
          "output_type": "execute_result",
          "data": {
            "text/plain": [
              "48.55321235899951"
            ]
          },
          "metadata": {},
          "execution_count": 276
        }
      ]
    },
    {
      "cell_type": "code",
      "metadata": {
        "id": "eVmrS_ZqRv-f"
      },
      "source": [
        "#EL 51.45% DE LA POBLACION ES FEMENINA Y EL 48.55% SON HOMBRES"
      ],
      "execution_count": null,
      "outputs": []
    },
    {
      "cell_type": "code",
      "metadata": {
        "id": "hjOoaY_wSBwJ"
      },
      "source": [
        "#GRAFICA PUNTAJE GLOBAL DE ACUERDO AL SEXO"
      ],
      "execution_count": null,
      "outputs": []
    },
    {
      "cell_type": "code",
      "metadata": {
        "id": "stry9-fIS2ih"
      },
      "source": [
        "Base_sex = Base_1.loc[:,['ESTU_GENERO', 'PUNT_GLOBAL']]"
      ],
      "execution_count": null,
      "outputs": []
    },
    {
      "cell_type": "code",
      "metadata": {
        "id": "l_ES9y02SvBb"
      },
      "source": [
        "grouped_data_1 = Base_sex.groupby('ESTU_GENERO')"
      ],
      "execution_count": null,
      "outputs": []
    },
    {
      "cell_type": "code",
      "metadata": {
        "colab": {
          "base_uri": "https://localhost:8080/",
          "height": 173
        },
        "id": "13wEtr0QTfKD",
        "outputId": "01cd5f01-ff82-4925-adce-e7e4e6462102"
      },
      "source": [
        "grouped_data_1.describe()"
      ],
      "execution_count": null,
      "outputs": [
        {
          "output_type": "execute_result",
          "data": {
            "text/html": [
              "<div>\n",
              "<style scoped>\n",
              "    .dataframe tbody tr th:only-of-type {\n",
              "        vertical-align: middle;\n",
              "    }\n",
              "\n",
              "    .dataframe tbody tr th {\n",
              "        vertical-align: top;\n",
              "    }\n",
              "\n",
              "    .dataframe thead tr th {\n",
              "        text-align: left;\n",
              "    }\n",
              "\n",
              "    .dataframe thead tr:last-of-type th {\n",
              "        text-align: right;\n",
              "    }\n",
              "</style>\n",
              "<table border=\"1\" class=\"dataframe\">\n",
              "  <thead>\n",
              "    <tr>\n",
              "      <th></th>\n",
              "      <th colspan=\"8\" halign=\"left\">PUNT_GLOBAL</th>\n",
              "    </tr>\n",
              "    <tr>\n",
              "      <th></th>\n",
              "      <th>count</th>\n",
              "      <th>mean</th>\n",
              "      <th>std</th>\n",
              "      <th>min</th>\n",
              "      <th>25%</th>\n",
              "      <th>50%</th>\n",
              "      <th>75%</th>\n",
              "      <th>max</th>\n",
              "    </tr>\n",
              "    <tr>\n",
              "      <th>ESTU_GENERO</th>\n",
              "      <th></th>\n",
              "      <th></th>\n",
              "      <th></th>\n",
              "      <th></th>\n",
              "      <th></th>\n",
              "      <th></th>\n",
              "      <th></th>\n",
              "      <th></th>\n",
              "    </tr>\n",
              "  </thead>\n",
              "  <tbody>\n",
              "    <tr>\n",
              "      <th>F</th>\n",
              "      <td>2098.0</td>\n",
              "      <td>237.148713</td>\n",
              "      <td>51.270457</td>\n",
              "      <td>132.0</td>\n",
              "      <td>197.0</td>\n",
              "      <td>229.0</td>\n",
              "      <td>272.0</td>\n",
              "      <td>405.0</td>\n",
              "    </tr>\n",
              "    <tr>\n",
              "      <th>M</th>\n",
              "      <td>1980.0</td>\n",
              "      <td>246.119192</td>\n",
              "      <td>54.134104</td>\n",
              "      <td>123.0</td>\n",
              "      <td>204.0</td>\n",
              "      <td>240.0</td>\n",
              "      <td>284.0</td>\n",
              "      <td>422.0</td>\n",
              "    </tr>\n",
              "  </tbody>\n",
              "</table>\n",
              "</div>"
            ],
            "text/plain": [
              "            PUNT_GLOBAL                         ...                     \n",
              "                  count        mean        std  ...    50%    75%    max\n",
              "ESTU_GENERO                                     ...                     \n",
              "F                2098.0  237.148713  51.270457  ...  229.0  272.0  405.0\n",
              "M                1980.0  246.119192  54.134104  ...  240.0  284.0  422.0\n",
              "\n",
              "[2 rows x 8 columns]"
            ]
          },
          "metadata": {},
          "execution_count": 280
        }
      ]
    },
    {
      "cell_type": "code",
      "metadata": {
        "id": "3p6goWkoqfK6"
      },
      "source": [
        "#En promedio la puntuacion de las mujeres es menor que la de los hombres. Las mujeres obtuvieron un puntaje de\n",
        "#237 puntos mientras que los hombres obtuvieron en promedio 246 puntos."
      ],
      "execution_count": null,
      "outputs": []
    },
    {
      "cell_type": "code",
      "metadata": {
        "id": "1stohZ3dT1rM"
      },
      "source": [
        "import matplotlib.pyplot as plt\n",
        "import numpy as np"
      ],
      "execution_count": null,
      "outputs": []
    },
    {
      "cell_type": "code",
      "metadata": {
        "id": "eprggmdzSRVj"
      },
      "source": [
        "cc = ['MUJERES', 'HOMBRES']\n",
        "data = [237.148713,246.119192]"
      ],
      "execution_count": null,
      "outputs": []
    },
    {
      "cell_type": "code",
      "metadata": {
        "colab": {
          "base_uri": "https://localhost:8080/",
          "height": 295
        },
        "id": "kRMpxB9ZTmV7",
        "outputId": "0ac623f0-cc57-49d2-e42d-49d6fefbbda3"
      },
      "source": [
        "plt.bar(cc,data, color=['orange','green'])\n",
        "plt.title('GRAFICO PUNTAJE GLOBAL SEGUN LA VARIABLE SEXO')\n",
        "plt.xlabel('SEXO')\n",
        "plt.ylabel('PUNTAJE GLOBAL')\n",
        "plt.show()"
      ],
      "execution_count": null,
      "outputs": [
        {
          "output_type": "display_data",
          "data": {
            "image/png": "[encoded data removed]",
            "text/plain": [
              "<Figure size 432x288 with 1 Axes>"
            ]
          },
          "metadata": {
            "needs_background": "light"
          }
        }
      ]
    },
    {
      "cell_type": "code",
      "metadata": {
        "id": "Tvp7gPZHT2hn"
      },
      "source": [
        "# SE PUEDE OBSERVAR QUE EN PROMEDIO LOS HOMBRES QUIENES ESTAN EN EL ESTRATO 1 Y 2 OBTUVIERON UN MAYOR PUNTAJE GLOBAL."
      ],
      "execution_count": null,
      "outputs": []
    },
    {
      "cell_type": "code",
      "metadata": {
        "id": "ClfwS4gqU_aV"
      },
      "source": [
        ""
      ],
      "execution_count": null,
      "outputs": []
    },
    {
      "cell_type": "code",
      "metadata": {
        "colab": {
          "base_uri": "https://localhost:8080/"
        },
        "id": "8cwHea3hV3_1",
        "outputId": "9ca4fc8a-bca6-45b5-9268-6fb76a7a348c"
      },
      "source": [
        "x = Base_1['EDAD']\n",
        "x"
      ],
      "execution_count": null,
      "outputs": [
        {
          "output_type": "execute_result",
          "data": {
            "text/plain": [
              "71       18\n",
              "157      30\n",
              "159      19\n",
              "161      11\n",
              "188      18\n",
              "         ..\n",
              "20871    19\n",
              "20873    25\n",
              "20875    18\n",
              "20878    19\n",
              "20879    19\n",
              "Name: EDAD, Length: 4078, dtype: int64"
            ]
          },
          "metadata": {},
          "execution_count": 286
        }
      ]
    },
    {
      "cell_type": "code",
      "metadata": {
        "colab": {
          "base_uri": "https://localhost:8080/"
        },
        "id": "it1OCsjCWdo4",
        "outputId": "704712a2-f40d-40cc-c48b-23fcee6a06fe"
      },
      "source": [
        "y = Base_1['PUNT_GLOBAL']\n",
        "y"
      ],
      "execution_count": null,
      "outputs": [
        {
          "output_type": "execute_result",
          "data": {
            "text/plain": [
              "71       338\n",
              "157      235\n",
              "159      268\n",
              "161      188\n",
              "188      320\n",
              "        ... \n",
              "20871    255\n",
              "20873    179\n",
              "20875    232\n",
              "20878    247\n",
              "20879    232\n",
              "Name: PUNT_GLOBAL, Length: 4078, dtype: int64"
            ]
          },
          "metadata": {},
          "execution_count": 287
        }
      ]
    },
    {
      "cell_type": "code",
      "metadata": {
        "colab": {
          "base_uri": "https://localhost:8080/",
          "height": 458
        },
        "id": "-uYz7CLkUxTo",
        "outputId": "f98a5984-384c-4988-cb3c-a29a3ab1fc66"
      },
      "source": [
        "plt.figure(figsize=(10,7))\n",
        "plt.scatter(x, y, color = ['green'])\n",
        "plt.title('GRAFICO PUNTAJE GLOBAL SEGUN LA VARIABLE EDAD')\n",
        "plt.xlabel('EDAD')\n",
        "plt.ylabel('PUNTAJE GLOBAL')\n",
        "plt.show()"
      ],
      "execution_count": null,
      "outputs": [
        {
          "output_type": "display_data",
          "data": {
            "image/png": "[encoded data removed]",
            "text/plain": [
              "<Figure size 720x504 with 1 Axes>"
            ]
          },
          "metadata": {
            "needs_background": "light"
          }
        }
      ]
    },
    {
      "cell_type": "code",
      "metadata": {
        "colab": {
          "base_uri": "https://localhost:8080/"
        },
        "id": "M6pvfBgoXOFp",
        "outputId": "bd0786ff-d1d5-477b-9cca-f648fe0530f0"
      },
      "source": [
        "sum(Base_1['EDAD'] > 100)"
      ],
      "execution_count": null,
      "outputs": [
        {
          "output_type": "execute_result",
          "data": {
            "text/plain": [
              "14"
            ]
          },
          "metadata": {},
          "execution_count": 289
        }
      ]
    },
    {
      "cell_type": "code",
      "metadata": {
        "id": "zcL52rfUXRES"
      },
      "source": [
        "Base_edu = Base_1.loc[:,['FAMI_EDUCACIONPADRE', 'PUNT_GLOBAL']]\n"
      ],
      "execution_count": 37,
      "outputs": []
    },
    {
      "cell_type": "code",
      "metadata": {
        "id": "QbaE3YaBhXlz"
      },
      "source": [
        "grouped_data_2 = Base_edu.groupby('FAMI_EDUCACIONPADRE')"
      ],
      "execution_count": 38,
      "outputs": []
    },
    {
      "cell_type": "code",
      "metadata": {
        "colab": {
          "base_uri": "https://localhost:8080/",
          "height": 483
        },
        "id": "WiPNwK_ihzk6",
        "outputId": "15082f6a-6a36-4cf1-b143-666b3fab3f28"
      },
      "source": [
        "grouped_data_2.describe()"
      ],
      "execution_count": 39,
      "outputs": [
        {
          "output_type": "execute_result",
          "data": {
            "text/html": [
              "<div>\n",
              "<style scoped>\n",
              "    .dataframe tbody tr th:only-of-type {\n",
              "        vertical-align: middle;\n",
              "    }\n",
              "\n",
              "    .dataframe tbody tr th {\n",
              "        vertical-align: top;\n",
              "    }\n",
              "\n",
              "    .dataframe thead tr th {\n",
              "        text-align: left;\n",
              "    }\n",
              "\n",
              "    .dataframe thead tr:last-of-type th {\n",
              "        text-align: right;\n",
              "    }\n",
              "</style>\n",
              "<table border=\"1\" class=\"dataframe\">\n",
              "  <thead>\n",
              "    <tr>\n",
              "      <th></th>\n",
              "      <th colspan=\"8\" halign=\"left\">PUNT_GLOBAL</th>\n",
              "    </tr>\n",
              "    <tr>\n",
              "      <th></th>\n",
              "      <th>count</th>\n",
              "      <th>mean</th>\n",
              "      <th>std</th>\n",
              "      <th>min</th>\n",
              "      <th>25%</th>\n",
              "      <th>50%</th>\n",
              "      <th>75%</th>\n",
              "      <th>max</th>\n",
              "    </tr>\n",
              "    <tr>\n",
              "      <th>FAMI_EDUCACIONPADRE</th>\n",
              "      <th></th>\n",
              "      <th></th>\n",
              "      <th></th>\n",
              "      <th></th>\n",
              "      <th></th>\n",
              "      <th></th>\n",
              "      <th></th>\n",
              "      <th></th>\n",
              "    </tr>\n",
              "  </thead>\n",
              "  <tbody>\n",
              "    <tr>\n",
              "      <th>Educacion profesional completa</th>\n",
              "      <td>364.0</td>\n",
              "      <td>279.401099</td>\n",
              "      <td>58.321977</td>\n",
              "      <td>145.0</td>\n",
              "      <td>236.50</td>\n",
              "      <td>283.5</td>\n",
              "      <td>327.0</td>\n",
              "      <td>422.0</td>\n",
              "    </tr>\n",
              "    <tr>\n",
              "      <th>Educacion profesional incompleta</th>\n",
              "      <td>94.0</td>\n",
              "      <td>271.648936</td>\n",
              "      <td>56.407829</td>\n",
              "      <td>158.0</td>\n",
              "      <td>236.00</td>\n",
              "      <td>280.5</td>\n",
              "      <td>311.5</td>\n",
              "      <td>387.0</td>\n",
              "    </tr>\n",
              "    <tr>\n",
              "      <th>Ninguno</th>\n",
              "      <td>202.0</td>\n",
              "      <td>207.237624</td>\n",
              "      <td>42.893864</td>\n",
              "      <td>140.0</td>\n",
              "      <td>176.25</td>\n",
              "      <td>199.5</td>\n",
              "      <td>231.5</td>\n",
              "      <td>382.0</td>\n",
              "    </tr>\n",
              "    <tr>\n",
              "      <th>No Aplica</th>\n",
              "      <td>57.0</td>\n",
              "      <td>251.403509</td>\n",
              "      <td>62.758568</td>\n",
              "      <td>166.0</td>\n",
              "      <td>198.00</td>\n",
              "      <td>242.0</td>\n",
              "      <td>303.0</td>\n",
              "      <td>388.0</td>\n",
              "    </tr>\n",
              "    <tr>\n",
              "      <th>No sabe</th>\n",
              "      <td>286.0</td>\n",
              "      <td>246.765734</td>\n",
              "      <td>51.600466</td>\n",
              "      <td>137.0</td>\n",
              "      <td>208.00</td>\n",
              "      <td>241.5</td>\n",
              "      <td>281.0</td>\n",
              "      <td>383.0</td>\n",
              "    </tr>\n",
              "    <tr>\n",
              "      <th>Postgrado</th>\n",
              "      <td>69.0</td>\n",
              "      <td>310.695652</td>\n",
              "      <td>51.542759</td>\n",
              "      <td>187.0</td>\n",
              "      <td>280.00</td>\n",
              "      <td>322.0</td>\n",
              "      <td>347.0</td>\n",
              "      <td>386.0</td>\n",
              "    </tr>\n",
              "    <tr>\n",
              "      <th>Primaria completa</th>\n",
              "      <td>377.0</td>\n",
              "      <td>226.190981</td>\n",
              "      <td>40.338734</td>\n",
              "      <td>147.0</td>\n",
              "      <td>197.00</td>\n",
              "      <td>220.0</td>\n",
              "      <td>252.0</td>\n",
              "      <td>365.0</td>\n",
              "    </tr>\n",
              "    <tr>\n",
              "      <th>Primaria incompleta</th>\n",
              "      <td>764.0</td>\n",
              "      <td>218.253927</td>\n",
              "      <td>41.140694</td>\n",
              "      <td>136.0</td>\n",
              "      <td>189.00</td>\n",
              "      <td>211.0</td>\n",
              "      <td>242.0</td>\n",
              "      <td>372.0</td>\n",
              "    </tr>\n",
              "    <tr>\n",
              "      <th>Secundaria (Bachillerato) completa</th>\n",
              "      <td>895.0</td>\n",
              "      <td>244.518436</td>\n",
              "      <td>50.965394</td>\n",
              "      <td>132.0</td>\n",
              "      <td>203.00</td>\n",
              "      <td>239.0</td>\n",
              "      <td>280.0</td>\n",
              "      <td>403.0</td>\n",
              "    </tr>\n",
              "    <tr>\n",
              "      <th>Secundaria (Bachillerato) incompleta</th>\n",
              "      <td>555.0</td>\n",
              "      <td>234.846847</td>\n",
              "      <td>45.133536</td>\n",
              "      <td>123.0</td>\n",
              "      <td>202.00</td>\n",
              "      <td>230.0</td>\n",
              "      <td>264.0</td>\n",
              "      <td>405.0</td>\n",
              "    </tr>\n",
              "    <tr>\n",
              "      <th>Tecnica o tecnologica completa</th>\n",
              "      <td>309.0</td>\n",
              "      <td>262.336570</td>\n",
              "      <td>51.625933</td>\n",
              "      <td>155.0</td>\n",
              "      <td>220.00</td>\n",
              "      <td>263.0</td>\n",
              "      <td>302.0</td>\n",
              "      <td>390.0</td>\n",
              "    </tr>\n",
              "    <tr>\n",
              "      <th>Tecnica o tecnologica incompleta</th>\n",
              "      <td>83.0</td>\n",
              "      <td>254.542169</td>\n",
              "      <td>47.939317</td>\n",
              "      <td>141.0</td>\n",
              "      <td>218.00</td>\n",
              "      <td>255.0</td>\n",
              "      <td>287.0</td>\n",
              "      <td>361.0</td>\n",
              "    </tr>\n",
              "  </tbody>\n",
              "</table>\n",
              "</div>"
            ],
            "text/plain": [
              "                                     PUNT_GLOBAL              ...              \n",
              "                                           count        mean  ...    75%    max\n",
              "FAMI_EDUCACIONPADRE                                           ...              \n",
              "Educacion profesional completa             364.0  279.401099  ...  327.0  422.0\n",
              "Educacion profesional incompleta            94.0  271.648936  ...  311.5  387.0\n",
              "Ninguno                                    202.0  207.237624  ...  231.5  382.0\n",
              "No Aplica                                   57.0  251.403509  ...  303.0  388.0\n",
              "No sabe                                    286.0  246.765734  ...  281.0  383.0\n",
              "Postgrado                                   69.0  310.695652  ...  347.0  386.0\n",
              "Primaria completa                          377.0  226.190981  ...  252.0  365.0\n",
              "Primaria incompleta                        764.0  218.253927  ...  242.0  372.0\n",
              "Secundaria (Bachillerato) completa         895.0  244.518436  ...  280.0  403.0\n",
              "Secundaria (Bachillerato) incompleta       555.0  234.846847  ...  264.0  405.0\n",
              "Tecnica o tecnologica completa             309.0  262.336570  ...  302.0  390.0\n",
              "Tecnica o tecnologica incompleta            83.0  254.542169  ...  287.0  361.0\n",
              "\n",
              "[12 rows x 8 columns]"
            ]
          },
          "metadata": {},
          "execution_count": 39
        }
      ]
    },
    {
      "cell_type": "code",
      "metadata": {
        "id": "xsSMTRcth-rh"
      },
      "source": [
        "g = grouped_data_2.mean()"
      ],
      "execution_count": 40,
      "outputs": []
    },
    {
      "cell_type": "code",
      "metadata": {
        "id": "pmAWWkQlFh2K"
      },
      "source": [
        "g['PUNT_GLOBAL_PADRE'] = g['PUNT_GLOBAL']"
      ],
      "execution_count": 41,
      "outputs": []
    },
    {
      "cell_type": "code",
      "metadata": {
        "id": "KE1bitysFo1N"
      },
      "source": [
        "g = g.drop(['PUNT_GLOBAL'], axis = 1)"
      ],
      "execution_count": 42,
      "outputs": []
    },
    {
      "cell_type": "code",
      "metadata": {
        "id": "fzF9hd6tgxG6"
      },
      "source": [
        "cc = ['Edu.com', 'Edu.incom','Nin','NA','NS','Pstgrado','Prim.com',\n",
        "      'Prim.incomp','Secu.comp', 'Secu.incom', 'Tec.comp', 'Tec.incom']"
      ],
      "execution_count": 43,
      "outputs": []
    },
    {
      "cell_type": "code",
      "metadata": {
        "id": "OKYkUpIL6goc"
      },
      "source": [
        ""
      ],
      "execution_count": null,
      "outputs": []
    },
    {
      "cell_type": "code",
      "metadata": {
        "id": "OvdpeX6FoGNx"
      },
      "source": [
        "Base_edu_m = Base_1.loc[:,['FAMI_EDUCACIONMADRE', 'PUNT_GLOBAL']]\n"
      ],
      "execution_count": 44,
      "outputs": []
    },
    {
      "cell_type": "code",
      "metadata": {
        "id": "0aoJELqPnpEU"
      },
      "source": [
        "grouped_data_3 = Base_edu_m.groupby('FAMI_EDUCACIONMADRE')"
      ],
      "execution_count": 45,
      "outputs": []
    },
    {
      "cell_type": "code",
      "metadata": {
        "colab": {
          "base_uri": "https://localhost:8080/",
          "height": 483
        },
        "id": "fR3H62LRoOry",
        "outputId": "36039624-d215-4b19-94c1-1c57b7c83473"
      },
      "source": [
        "grouped_data_3.describe()"
      ],
      "execution_count": 46,
      "outputs": [
        {
          "output_type": "execute_result",
          "data": {
            "text/html": [
              "<div>\n",
              "<style scoped>\n",
              "    .dataframe tbody tr th:only-of-type {\n",
              "        vertical-align: middle;\n",
              "    }\n",
              "\n",
              "    .dataframe tbody tr th {\n",
              "        vertical-align: top;\n",
              "    }\n",
              "\n",
              "    .dataframe thead tr th {\n",
              "        text-align: left;\n",
              "    }\n",
              "\n",
              "    .dataframe thead tr:last-of-type th {\n",
              "        text-align: right;\n",
              "    }\n",
              "</style>\n",
              "<table border=\"1\" class=\"dataframe\">\n",
              "  <thead>\n",
              "    <tr>\n",
              "      <th></th>\n",
              "      <th colspan=\"8\" halign=\"left\">PUNT_GLOBAL</th>\n",
              "    </tr>\n",
              "    <tr>\n",
              "      <th></th>\n",
              "      <th>count</th>\n",
              "      <th>mean</th>\n",
              "      <th>std</th>\n",
              "      <th>min</th>\n",
              "      <th>25%</th>\n",
              "      <th>50%</th>\n",
              "      <th>75%</th>\n",
              "      <th>max</th>\n",
              "    </tr>\n",
              "    <tr>\n",
              "      <th>FAMI_EDUCACIONMADRE</th>\n",
              "      <th></th>\n",
              "      <th></th>\n",
              "      <th></th>\n",
              "      <th></th>\n",
              "      <th></th>\n",
              "      <th></th>\n",
              "      <th></th>\n",
              "      <th></th>\n",
              "    </tr>\n",
              "  </thead>\n",
              "  <tbody>\n",
              "    <tr>\n",
              "      <th>Educacion profesional completa</th>\n",
              "      <td>449.0</td>\n",
              "      <td>274.730512</td>\n",
              "      <td>56.398265</td>\n",
              "      <td>145.0</td>\n",
              "      <td>231.00</td>\n",
              "      <td>278.0</td>\n",
              "      <td>318.00</td>\n",
              "      <td>422.0</td>\n",
              "    </tr>\n",
              "    <tr>\n",
              "      <th>Educacion profesional incompleta</th>\n",
              "      <td>98.0</td>\n",
              "      <td>278.438776</td>\n",
              "      <td>58.344880</td>\n",
              "      <td>160.0</td>\n",
              "      <td>239.50</td>\n",
              "      <td>289.0</td>\n",
              "      <td>329.25</td>\n",
              "      <td>390.0</td>\n",
              "    </tr>\n",
              "    <tr>\n",
              "      <th>Ninguno</th>\n",
              "      <td>117.0</td>\n",
              "      <td>205.897436</td>\n",
              "      <td>40.084692</td>\n",
              "      <td>141.0</td>\n",
              "      <td>173.00</td>\n",
              "      <td>202.0</td>\n",
              "      <td>227.00</td>\n",
              "      <td>334.0</td>\n",
              "    </tr>\n",
              "    <tr>\n",
              "      <th>No Aplica</th>\n",
              "      <td>14.0</td>\n",
              "      <td>216.000000</td>\n",
              "      <td>57.937632</td>\n",
              "      <td>143.0</td>\n",
              "      <td>172.50</td>\n",
              "      <td>196.0</td>\n",
              "      <td>277.00</td>\n",
              "      <td>308.0</td>\n",
              "    </tr>\n",
              "    <tr>\n",
              "      <th>No sabe</th>\n",
              "      <td>88.0</td>\n",
              "      <td>252.715909</td>\n",
              "      <td>61.214330</td>\n",
              "      <td>137.0</td>\n",
              "      <td>209.00</td>\n",
              "      <td>238.0</td>\n",
              "      <td>299.00</td>\n",
              "      <td>383.0</td>\n",
              "    </tr>\n",
              "    <tr>\n",
              "      <th>Postgrado</th>\n",
              "      <td>70.0</td>\n",
              "      <td>311.028571</td>\n",
              "      <td>50.221241</td>\n",
              "      <td>179.0</td>\n",
              "      <td>286.50</td>\n",
              "      <td>318.5</td>\n",
              "      <td>347.00</td>\n",
              "      <td>385.0</td>\n",
              "    </tr>\n",
              "    <tr>\n",
              "      <th>Primaria completa</th>\n",
              "      <td>404.0</td>\n",
              "      <td>222.321782</td>\n",
              "      <td>41.092771</td>\n",
              "      <td>140.0</td>\n",
              "      <td>190.75</td>\n",
              "      <td>217.0</td>\n",
              "      <td>250.00</td>\n",
              "      <td>361.0</td>\n",
              "    </tr>\n",
              "    <tr>\n",
              "      <th>Primaria incompleta</th>\n",
              "      <td>648.0</td>\n",
              "      <td>216.705247</td>\n",
              "      <td>38.608940</td>\n",
              "      <td>136.0</td>\n",
              "      <td>189.00</td>\n",
              "      <td>212.0</td>\n",
              "      <td>240.00</td>\n",
              "      <td>382.0</td>\n",
              "    </tr>\n",
              "    <tr>\n",
              "      <th>Secundaria (Bachillerato) completa</th>\n",
              "      <td>999.0</td>\n",
              "      <td>241.257257</td>\n",
              "      <td>49.335676</td>\n",
              "      <td>140.0</td>\n",
              "      <td>204.00</td>\n",
              "      <td>238.0</td>\n",
              "      <td>276.00</td>\n",
              "      <td>380.0</td>\n",
              "    </tr>\n",
              "    <tr>\n",
              "      <th>Secundaria (Bachillerato) incompleta</th>\n",
              "      <td>580.0</td>\n",
              "      <td>227.043103</td>\n",
              "      <td>43.753311</td>\n",
              "      <td>123.0</td>\n",
              "      <td>195.00</td>\n",
              "      <td>220.5</td>\n",
              "      <td>253.00</td>\n",
              "      <td>378.0</td>\n",
              "    </tr>\n",
              "    <tr>\n",
              "      <th>Tecnica o tecnologica completa</th>\n",
              "      <td>436.0</td>\n",
              "      <td>264.364679</td>\n",
              "      <td>52.178540</td>\n",
              "      <td>135.0</td>\n",
              "      <td>226.00</td>\n",
              "      <td>259.5</td>\n",
              "      <td>301.00</td>\n",
              "      <td>403.0</td>\n",
              "    </tr>\n",
              "    <tr>\n",
              "      <th>Tecnica o tecnologica incompleta</th>\n",
              "      <td>152.0</td>\n",
              "      <td>255.671053</td>\n",
              "      <td>50.172916</td>\n",
              "      <td>144.0</td>\n",
              "      <td>220.75</td>\n",
              "      <td>254.5</td>\n",
              "      <td>285.00</td>\n",
              "      <td>405.0</td>\n",
              "    </tr>\n",
              "  </tbody>\n",
              "</table>\n",
              "</div>"
            ],
            "text/plain": [
              "                                     PUNT_GLOBAL              ...               \n",
              "                                           count        mean  ...     75%    max\n",
              "FAMI_EDUCACIONMADRE                                           ...               \n",
              "Educacion profesional completa             449.0  274.730512  ...  318.00  422.0\n",
              "Educacion profesional incompleta            98.0  278.438776  ...  329.25  390.0\n",
              "Ninguno                                    117.0  205.897436  ...  227.00  334.0\n",
              "No Aplica                                   14.0  216.000000  ...  277.00  308.0\n",
              "No sabe                                     88.0  252.715909  ...  299.00  383.0\n",
              "Postgrado                                   70.0  311.028571  ...  347.00  385.0\n",
              "Primaria completa                          404.0  222.321782  ...  250.00  361.0\n",
              "Primaria incompleta                        648.0  216.705247  ...  240.00  382.0\n",
              "Secundaria (Bachillerato) completa         999.0  241.257257  ...  276.00  380.0\n",
              "Secundaria (Bachillerato) incompleta       580.0  227.043103  ...  253.00  378.0\n",
              "Tecnica o tecnologica completa             436.0  264.364679  ...  301.00  403.0\n",
              "Tecnica o tecnologica incompleta           152.0  255.671053  ...  285.00  405.0\n",
              "\n",
              "[12 rows x 8 columns]"
            ]
          },
          "metadata": {},
          "execution_count": 46
        }
      ]
    },
    {
      "cell_type": "code",
      "metadata": {
        "id": "tzbP1z1p_QiZ"
      },
      "source": [
        "g1 = grouped_data_3.mean()\n"
      ],
      "execution_count": 47,
      "outputs": []
    },
    {
      "cell_type": "code",
      "metadata": {
        "id": "JQND1NjNCgwc"
      },
      "source": [
        "g1['PUNT_GLOBAL_MADRE'] = g1['PUNT_GLOBAL']"
      ],
      "execution_count": 48,
      "outputs": []
    },
    {
      "cell_type": "code",
      "metadata": {
        "id": "3-8nfa6eCuEQ"
      },
      "source": [
        "g1 = g1.drop(['PUNT_GLOBAL'], axis = 1)"
      ],
      "execution_count": 49,
      "outputs": []
    },
    {
      "cell_type": "code",
      "metadata": {
        "colab": {
          "base_uri": "https://localhost:8080/",
          "height": 421
        },
        "id": "nCOyvAPR8xLD",
        "outputId": "a3ec5887-cf20-41b2-8b35-ff0ab3beb1db"
      },
      "source": [
        "muestra = pd.concat([g, g1], axis=1)\n",
        "muestra"
      ],
      "execution_count": 50,
      "outputs": [
        {
          "output_type": "execute_result",
          "data": {
            "text/html": [
              "<div>\n",
              "<style scoped>\n",
              "    .dataframe tbody tr th:only-of-type {\n",
              "        vertical-align: middle;\n",
              "    }\n",
              "\n",
              "    .dataframe tbody tr th {\n",
              "        vertical-align: top;\n",
              "    }\n",
              "\n",
              "    .dataframe thead th {\n",
              "        text-align: right;\n",
              "    }\n",
              "</style>\n",
              "<table border=\"1\" class=\"dataframe\">\n",
              "  <thead>\n",
              "    <tr style=\"text-align: right;\">\n",
              "      <th></th>\n",
              "      <th>PUNT_GLOBAL_PADRE</th>\n",
              "      <th>PUNT_GLOBAL_MADRE</th>\n",
              "    </tr>\n",
              "  </thead>\n",
              "  <tbody>\n",
              "    <tr>\n",
              "      <th>Educacion profesional completa</th>\n",
              "      <td>279.401099</td>\n",
              "      <td>274.730512</td>\n",
              "    </tr>\n",
              "    <tr>\n",
              "      <th>Educacion profesional incompleta</th>\n",
              "      <td>271.648936</td>\n",
              "      <td>278.438776</td>\n",
              "    </tr>\n",
              "    <tr>\n",
              "      <th>Ninguno</th>\n",
              "      <td>207.237624</td>\n",
              "      <td>205.897436</td>\n",
              "    </tr>\n",
              "    <tr>\n",
              "      <th>No Aplica</th>\n",
              "      <td>251.403509</td>\n",
              "      <td>216.000000</td>\n",
              "    </tr>\n",
              "    <tr>\n",
              "      <th>No sabe</th>\n",
              "      <td>246.765734</td>\n",
              "      <td>252.715909</td>\n",
              "    </tr>\n",
              "    <tr>\n",
              "      <th>Postgrado</th>\n",
              "      <td>310.695652</td>\n",
              "      <td>311.028571</td>\n",
              "    </tr>\n",
              "    <tr>\n",
              "      <th>Primaria completa</th>\n",
              "      <td>226.190981</td>\n",
              "      <td>222.321782</td>\n",
              "    </tr>\n",
              "    <tr>\n",
              "      <th>Primaria incompleta</th>\n",
              "      <td>218.253927</td>\n",
              "      <td>216.705247</td>\n",
              "    </tr>\n",
              "    <tr>\n",
              "      <th>Secundaria (Bachillerato) completa</th>\n",
              "      <td>244.518436</td>\n",
              "      <td>241.257257</td>\n",
              "    </tr>\n",
              "    <tr>\n",
              "      <th>Secundaria (Bachillerato) incompleta</th>\n",
              "      <td>234.846847</td>\n",
              "      <td>227.043103</td>\n",
              "    </tr>\n",
              "    <tr>\n",
              "      <th>Tecnica o tecnologica completa</th>\n",
              "      <td>262.336570</td>\n",
              "      <td>264.364679</td>\n",
              "    </tr>\n",
              "    <tr>\n",
              "      <th>Tecnica o tecnologica incompleta</th>\n",
              "      <td>254.542169</td>\n",
              "      <td>255.671053</td>\n",
              "    </tr>\n",
              "  </tbody>\n",
              "</table>\n",
              "</div>"
            ],
            "text/plain": [
              "                                      PUNT_GLOBAL_PADRE  PUNT_GLOBAL_MADRE\n",
              "Educacion profesional completa               279.401099         274.730512\n",
              "Educacion profesional incompleta             271.648936         278.438776\n",
              "Ninguno                                      207.237624         205.897436\n",
              "No Aplica                                    251.403509         216.000000\n",
              "No sabe                                      246.765734         252.715909\n",
              "Postgrado                                    310.695652         311.028571\n",
              "Primaria completa                            226.190981         222.321782\n",
              "Primaria incompleta                          218.253927         216.705247\n",
              "Secundaria (Bachillerato) completa           244.518436         241.257257\n",
              "Secundaria (Bachillerato) incompleta         234.846847         227.043103\n",
              "Tecnica o tecnologica completa               262.336570         264.364679\n",
              "Tecnica o tecnologica incompleta             254.542169         255.671053"
            ]
          },
          "metadata": {},
          "execution_count": 50
        }
      ]
    },
    {
      "cell_type": "code",
      "metadata": {
        "colab": {
          "base_uri": "https://localhost:8080/",
          "height": 327
        },
        "id": "wM41vFoK-nEs",
        "outputId": "ab30fba0-995d-47ee-b221-ff56896baa28"
      },
      "source": [
        "\n",
        "muestra.plot(kind = 'barh', width=0.8)\n",
        "plt.legend(loc= \"upper left\", bbox_to_anchor=(0.5, -0.10))"
      ],
      "execution_count": 52,
      "outputs": [
        {
          "output_type": "execute_result",
          "data": {
            "text/plain": [
              "<matplotlib.legend.Legend at 0x7f0632ed3810>"
            ]
          },
          "metadata": {},
          "execution_count": 52
        },
        {
          "output_type": "display_data",
          "data": {
            "image/png": "[encoded data removed]",
            "text/plain": [
              "<Figure size 432x288 with 1 Axes>"
            ]
          },
          "metadata": {
            "needs_background": "light"
          }
        }
      ]
    },
    {
      "cell_type": "code",
      "metadata": {
        "id": "4PnqaG2Jp7D-"
      },
      "source": [
        "#Se puede decir que los estudiantes quienes su padre o madre son profesionales y tienen un postgrado mantienen la mayor puntuacion en la prueba icfes.\n",
        "#Mientras que, aquellos quienes no tienen ningun nivel educativo más alto alcanzado por sus padres tienen la puntuacion mas baja."
      ],
      "execution_count": null,
      "outputs": []
    },
    {
      "cell_type": "code",
      "metadata": {
        "id": "u2-LKNqdp66-"
      },
      "source": [
        "Base_int = Base_1.loc[:,['FAMI_TIENEINTERNET', 'PUNT_GLOBAL']]"
      ],
      "execution_count": 40,
      "outputs": []
    },
    {
      "cell_type": "code",
      "metadata": {
        "id": "ood-M4LQqMOr"
      },
      "source": [
        "grouped_data_4 = Base_int.groupby('FAMI_TIENEINTERNET')"
      ],
      "execution_count": 41,
      "outputs": []
    },
    {
      "cell_type": "code",
      "metadata": {
        "colab": {
          "base_uri": "https://localhost:8080/",
          "height": 173
        },
        "id": "cAO91oqOqWXe",
        "outputId": "592ce33d-98dd-4a77-f216-f791cf1e19d5"
      },
      "source": [
        "grouped_data_4.describe()"
      ],
      "execution_count": 42,
      "outputs": [
        {
          "output_type": "execute_result",
          "data": {
            "text/html": [
              "<div>\n",
              "<style scoped>\n",
              "    .dataframe tbody tr th:only-of-type {\n",
              "        vertical-align: middle;\n",
              "    }\n",
              "\n",
              "    .dataframe tbody tr th {\n",
              "        vertical-align: top;\n",
              "    }\n",
              "\n",
              "    .dataframe thead tr th {\n",
              "        text-align: left;\n",
              "    }\n",
              "\n",
              "    .dataframe thead tr:last-of-type th {\n",
              "        text-align: right;\n",
              "    }\n",
              "</style>\n",
              "<table border=\"1\" class=\"dataframe\">\n",
              "  <thead>\n",
              "    <tr>\n",
              "      <th></th>\n",
              "      <th colspan=\"8\" halign=\"left\">PUNT_GLOBAL</th>\n",
              "    </tr>\n",
              "    <tr>\n",
              "      <th></th>\n",
              "      <th>count</th>\n",
              "      <th>mean</th>\n",
              "      <th>std</th>\n",
              "      <th>min</th>\n",
              "      <th>25%</th>\n",
              "      <th>50%</th>\n",
              "      <th>75%</th>\n",
              "      <th>max</th>\n",
              "    </tr>\n",
              "    <tr>\n",
              "      <th>FAMI_TIENEINTERNET</th>\n",
              "      <th></th>\n",
              "      <th></th>\n",
              "      <th></th>\n",
              "      <th></th>\n",
              "      <th></th>\n",
              "      <th></th>\n",
              "      <th></th>\n",
              "      <th></th>\n",
              "    </tr>\n",
              "  </thead>\n",
              "  <tbody>\n",
              "    <tr>\n",
              "      <th>No</th>\n",
              "      <td>1192.0</td>\n",
              "      <td>220.734060</td>\n",
              "      <td>42.919023</td>\n",
              "      <td>123.0</td>\n",
              "      <td>190.0</td>\n",
              "      <td>213.0</td>\n",
              "      <td>244.0</td>\n",
              "      <td>390.0</td>\n",
              "    </tr>\n",
              "    <tr>\n",
              "      <th>Si</th>\n",
              "      <td>2863.0</td>\n",
              "      <td>249.989521</td>\n",
              "      <td>54.114715</td>\n",
              "      <td>132.0</td>\n",
              "      <td>208.0</td>\n",
              "      <td>245.0</td>\n",
              "      <td>290.0</td>\n",
              "      <td>422.0</td>\n",
              "    </tr>\n",
              "  </tbody>\n",
              "</table>\n",
              "</div>"
            ],
            "text/plain": [
              "                   PUNT_GLOBAL                         ...                     \n",
              "                         count        mean        std  ...    50%    75%    max\n",
              "FAMI_TIENEINTERNET                                     ...                     \n",
              "No                      1192.0  220.734060  42.919023  ...  213.0  244.0  390.0\n",
              "Si                      2863.0  249.989521  54.114715  ...  245.0  290.0  422.0\n",
              "\n",
              "[2 rows x 8 columns]"
            ]
          },
          "metadata": {},
          "execution_count": 42
        }
      ]
    },
    {
      "cell_type": "code",
      "metadata": {
        "colab": {
          "base_uri": "https://localhost:8080/",
          "height": 142
        },
        "id": "6l2CAz9MYTNF",
        "outputId": "3d15a791-aa32-4ff5-e07c-7e68a1c7f34d"
      },
      "source": [
        "Base_1.loc[:,['FAMI_TIENEINTERNET', 'PUNT_GLOBAL']].groupby('FAMI_TIENEINTERNET').mean()"
      ],
      "execution_count": 18,
      "outputs": [
        {
          "output_type": "execute_result",
          "data": {
            "text/html": [
              "<div>\n",
              "<style scoped>\n",
              "    .dataframe tbody tr th:only-of-type {\n",
              "        vertical-align: middle;\n",
              "    }\n",
              "\n",
              "    .dataframe tbody tr th {\n",
              "        vertical-align: top;\n",
              "    }\n",
              "\n",
              "    .dataframe thead th {\n",
              "        text-align: right;\n",
              "    }\n",
              "</style>\n",
              "<table border=\"1\" class=\"dataframe\">\n",
              "  <thead>\n",
              "    <tr style=\"text-align: right;\">\n",
              "      <th></th>\n",
              "      <th>PUNT_GLOBAL</th>\n",
              "    </tr>\n",
              "    <tr>\n",
              "      <th>FAMI_TIENEINTERNET</th>\n",
              "      <th></th>\n",
              "    </tr>\n",
              "  </thead>\n",
              "  <tbody>\n",
              "    <tr>\n",
              "      <th>No</th>\n",
              "      <td>220.734060</td>\n",
              "    </tr>\n",
              "    <tr>\n",
              "      <th>Si</th>\n",
              "      <td>249.989521</td>\n",
              "    </tr>\n",
              "  </tbody>\n",
              "</table>\n",
              "</div>"
            ],
            "text/plain": [
              "                    PUNT_GLOBAL\n",
              "FAMI_TIENEINTERNET             \n",
              "No                   220.734060\n",
              "Si                   249.989521"
            ]
          },
          "metadata": {},
          "execution_count": 18
        }
      ]
    },
    {
      "cell_type": "code",
      "metadata": {
        "colab": {
          "base_uri": "https://localhost:8080/",
          "height": 111
        },
        "id": "PIqxheizbk85",
        "outputId": "a7edd586-6fc0-49d3-e1e8-6687f5268baf"
      },
      "source": [
        " pd.DataFrame(list({'FEMENINO': 237.148713, 'MASCULINO':246.119192}.items()),\n",
        "             columns=['SEXO', 'PUNTAJE'])\n"
      ],
      "execution_count": 30,
      "outputs": [
        {
          "output_type": "execute_result",
          "data": {
            "text/html": [
              "<div>\n",
              "<style scoped>\n",
              "    .dataframe tbody tr th:only-of-type {\n",
              "        vertical-align: middle;\n",
              "    }\n",
              "\n",
              "    .dataframe tbody tr th {\n",
              "        vertical-align: top;\n",
              "    }\n",
              "\n",
              "    .dataframe thead th {\n",
              "        text-align: right;\n",
              "    }\n",
              "</style>\n",
              "<table border=\"1\" class=\"dataframe\">\n",
              "  <thead>\n",
              "    <tr style=\"text-align: right;\">\n",
              "      <th></th>\n",
              "      <th>SEXO</th>\n",
              "      <th>PUNTAJE</th>\n",
              "    </tr>\n",
              "  </thead>\n",
              "  <tbody>\n",
              "    <tr>\n",
              "      <th>0</th>\n",
              "      <td>FEMENINO</td>\n",
              "      <td>237.148713</td>\n",
              "    </tr>\n",
              "    <tr>\n",
              "      <th>1</th>\n",
              "      <td>MASCULINO</td>\n",
              "      <td>246.119192</td>\n",
              "    </tr>\n",
              "  </tbody>\n",
              "</table>\n",
              "</div>"
            ],
            "text/plain": [
              "        SEXO     PUNTAJE\n",
              "0   FEMENINO  237.148713\n",
              "1  MASCULINO  246.119192"
            ]
          },
          "metadata": {},
          "execution_count": 30
        }
      ]
    },
    {
      "cell_type": "code",
      "metadata": {
        "id": "CH9dCq3hpKG3"
      },
      "source": [
        "cc1 = ['SI', 'NO']\n",
        "data1 = [249.989521\t,220.734060]"
      ],
      "execution_count": 31,
      "outputs": []
    },
    {
      "cell_type": "code",
      "metadata": {
        "colab": {
          "base_uri": "https://localhost:8080/",
          "height": 278
        },
        "id": "zGhI2o_AALxy",
        "outputId": "ecee4964-5eba-4cbb-de3c-03648a51fe64"
      },
      "source": [
        "plt.pie(data1, labels=cc1, colors=['orange','green'])\n",
        "plt.title('GRAFICO PUNTAJE GLOBAL SEGUN LA VARIABLE INTERNET')\n",
        "plt.xlabel('¿TIENE ACCESO A INTERNET?')\n",
        "plt.show()"
      ],
      "execution_count": 36,
      "outputs": [
        {
          "output_type": "display_data",
          "data": {
            "image/png": "[encoded data removed]",
            "text/plain": [
              "<Figure size 432x288 with 1 Axes>"
            ]
          },
          "metadata": {}
        }
      ]
    },
    {
      "cell_type": "code",
      "metadata": {
        "id": "dKBSeXYlsF9v"
      },
      "source": [
        "#SE EVIDENCIA QUE, AQUELLOS INDIVIDUOS QUIENES TIENEN ACCESO A INTERNET, TIENEN UNA PUNTUACION MAS ALTA EN LA PRUEBA ICFES.\n",
        "#APROXIMADAMENTE 29 PUNTOS MAS."
      ],
      "execution_count": null,
      "outputs": []
    },
    {
      "cell_type": "code",
      "metadata": {
        "id": "asY6afB0rCEs"
      },
      "source": [
        "Base_comp = Base_1.loc[:,['FAMI_TIENECOMPUTADOR', 'PUNT_GLOBAL']]"
      ],
      "execution_count": 53,
      "outputs": []
    },
    {
      "cell_type": "code",
      "metadata": {
        "id": "bHu4dNx_skcx"
      },
      "source": [
        "grouped_data_5 = Base_comp.groupby('FAMI_TIENECOMPUTADOR')"
      ],
      "execution_count": 54,
      "outputs": []
    },
    {
      "cell_type": "code",
      "metadata": {
        "colab": {
          "base_uri": "https://localhost:8080/",
          "height": 173
        },
        "id": "dYjlf0_Sstrp",
        "outputId": "4b69ef40-a9d9-408a-b74c-227c531a49ec"
      },
      "source": [
        "grouped_data_5.describe()"
      ],
      "execution_count": 55,
      "outputs": [
        {
          "output_type": "execute_result",
          "data": {
            "text/html": [
              "<div>\n",
              "<style scoped>\n",
              "    .dataframe tbody tr th:only-of-type {\n",
              "        vertical-align: middle;\n",
              "    }\n",
              "\n",
              "    .dataframe tbody tr th {\n",
              "        vertical-align: top;\n",
              "    }\n",
              "\n",
              "    .dataframe thead tr th {\n",
              "        text-align: left;\n",
              "    }\n",
              "\n",
              "    .dataframe thead tr:last-of-type th {\n",
              "        text-align: right;\n",
              "    }\n",
              "</style>\n",
              "<table border=\"1\" class=\"dataframe\">\n",
              "  <thead>\n",
              "    <tr>\n",
              "      <th></th>\n",
              "      <th colspan=\"8\" halign=\"left\">PUNT_GLOBAL</th>\n",
              "    </tr>\n",
              "    <tr>\n",
              "      <th></th>\n",
              "      <th>count</th>\n",
              "      <th>mean</th>\n",
              "      <th>std</th>\n",
              "      <th>min</th>\n",
              "      <th>25%</th>\n",
              "      <th>50%</th>\n",
              "      <th>75%</th>\n",
              "      <th>max</th>\n",
              "    </tr>\n",
              "    <tr>\n",
              "      <th>FAMI_TIENECOMPUTADOR</th>\n",
              "      <th></th>\n",
              "      <th></th>\n",
              "      <th></th>\n",
              "      <th></th>\n",
              "      <th></th>\n",
              "      <th></th>\n",
              "      <th></th>\n",
              "      <th></th>\n",
              "    </tr>\n",
              "  </thead>\n",
              "  <tbody>\n",
              "    <tr>\n",
              "      <th>No</th>\n",
              "      <td>1488.0</td>\n",
              "      <td>225.593414</td>\n",
              "      <td>45.383689</td>\n",
              "      <td>123.0</td>\n",
              "      <td>192.0</td>\n",
              "      <td>218.0</td>\n",
              "      <td>252.25</td>\n",
              "      <td>382.0</td>\n",
              "    </tr>\n",
              "    <tr>\n",
              "      <th>Si</th>\n",
              "      <td>2567.0</td>\n",
              "      <td>250.546163</td>\n",
              "      <td>54.587021</td>\n",
              "      <td>132.0</td>\n",
              "      <td>208.0</td>\n",
              "      <td>245.0</td>\n",
              "      <td>291.00</td>\n",
              "      <td>422.0</td>\n",
              "    </tr>\n",
              "  </tbody>\n",
              "</table>\n",
              "</div>"
            ],
            "text/plain": [
              "                     PUNT_GLOBAL                         ...                      \n",
              "                           count        mean        std  ...    50%     75%    max\n",
              "FAMI_TIENECOMPUTADOR                                     ...                      \n",
              "No                        1488.0  225.593414  45.383689  ...  218.0  252.25  382.0\n",
              "Si                        2567.0  250.546163  54.587021  ...  245.0  291.00  422.0\n",
              "\n",
              "[2 rows x 8 columns]"
            ]
          },
          "metadata": {},
          "execution_count": 55
        }
      ]
    },
    {
      "cell_type": "code",
      "metadata": {
        "id": "PH5h7M-tsuXA"
      },
      "source": [
        "cc2 = ['SI', 'NO']\n",
        "data2 = [250.546163,225.593414]"
      ],
      "execution_count": 57,
      "outputs": []
    },
    {
      "cell_type": "code",
      "metadata": {
        "colab": {
          "base_uri": "https://localhost:8080/",
          "height": 278
        },
        "id": "Q-OYll-9s9TG",
        "outputId": "9df062f8-34ea-4bcf-fe32-5d020d67fd41"
      },
      "source": [
        "plt.pie(data2, labels=cc2, colors=['orange','green'])\n",
        "plt.title('GRAFICO PUNTAJE GLOBAL SEGUN LA VARIABLE COMPUTADOR')\n",
        "plt.xlabel('¿TIENE COMPUTADOR?')\n",
        "plt.show()"
      ],
      "execution_count": 58,
      "outputs": [
        {
          "output_type": "display_data",
          "data": {
            "image/png": "[encoded data removed]",
            "text/plain": [
              "<Figure size 432x288 with 1 Axes>"
            ]
          },
          "metadata": {}
        }
      ]
    },
    {
      "cell_type": "code",
      "metadata": {
        "id": "-Pv0j2f7Hjs-"
      },
      "source": [
        "#SE EVIDENCIA QUE, AQUELLOS INDIVIDUOS QUIENES TIENEN ACCESO A UN COMPUTADOR, TIENEN UNA PUNTUACION MAS ALTA EN LA PRUEBA ICFES.\n",
        "#APROXIMADAMENTE 25 PUNTOS MAS."
      ],
      "execution_count": null,
      "outputs": []
    },
    {
      "cell_type": "code",
      "metadata": {
        "id": "R0exSG_xtGQZ"
      },
      "source": [
        "#ESTU_DEDICACIONLECTURADIARIA"
      ],
      "execution_count": null,
      "outputs": []
    },
    {
      "cell_type": "code",
      "metadata": {
        "colab": {
          "base_uri": "https://localhost:8080/",
          "height": 419
        },
        "id": "IxAL9H7utOcF",
        "outputId": "5219a2ec-f675-4d6e-d61d-d800653d84f6"
      },
      "source": [
        "Base_lec = Base_1.loc[:,['ESTU_DEDICACIONLECTURADIARIA', 'PUNT_GLOBAL']]\n",
        "Base_lec"
      ],
      "execution_count": 63,
      "outputs": [
        {
          "output_type": "execute_result",
          "data": {
            "text/html": [
              "<div>\n",
              "<style scoped>\n",
              "    .dataframe tbody tr th:only-of-type {\n",
              "        vertical-align: middle;\n",
              "    }\n",
              "\n",
              "    .dataframe tbody tr th {\n",
              "        vertical-align: top;\n",
              "    }\n",
              "\n",
              "    .dataframe thead th {\n",
              "        text-align: right;\n",
              "    }\n",
              "</style>\n",
              "<table border=\"1\" class=\"dataframe\">\n",
              "  <thead>\n",
              "    <tr style=\"text-align: right;\">\n",
              "      <th></th>\n",
              "      <th>ESTU_DEDICACIONLECTURADIARIA</th>\n",
              "      <th>PUNT_GLOBAL</th>\n",
              "    </tr>\n",
              "  </thead>\n",
              "  <tbody>\n",
              "    <tr>\n",
              "      <th>71</th>\n",
              "      <td>Entre 1 y 2 horas</td>\n",
              "      <td>338</td>\n",
              "    </tr>\n",
              "    <tr>\n",
              "      <th>157</th>\n",
              "      <td>30 minutos o menos</td>\n",
              "      <td>235</td>\n",
              "    </tr>\n",
              "    <tr>\n",
              "      <th>159</th>\n",
              "      <td>No leo por entretenimiento</td>\n",
              "      <td>268</td>\n",
              "    </tr>\n",
              "    <tr>\n",
              "      <th>161</th>\n",
              "      <td>30 minutos o menos</td>\n",
              "      <td>188</td>\n",
              "    </tr>\n",
              "    <tr>\n",
              "      <th>188</th>\n",
              "      <td>Entre 30 y 60 minutos</td>\n",
              "      <td>320</td>\n",
              "    </tr>\n",
              "    <tr>\n",
              "      <th>...</th>\n",
              "      <td>...</td>\n",
              "      <td>...</td>\n",
              "    </tr>\n",
              "    <tr>\n",
              "      <th>20871</th>\n",
              "      <td>Entre 30 y 60 minutos</td>\n",
              "      <td>255</td>\n",
              "    </tr>\n",
              "    <tr>\n",
              "      <th>20873</th>\n",
              "      <td>30 minutos o menos</td>\n",
              "      <td>179</td>\n",
              "    </tr>\n",
              "    <tr>\n",
              "      <th>20875</th>\n",
              "      <td>30 minutos o menos</td>\n",
              "      <td>232</td>\n",
              "    </tr>\n",
              "    <tr>\n",
              "      <th>20878</th>\n",
              "      <td>No leo por entretenimiento</td>\n",
              "      <td>247</td>\n",
              "    </tr>\n",
              "    <tr>\n",
              "      <th>20879</th>\n",
              "      <td>30 minutos o menos</td>\n",
              "      <td>232</td>\n",
              "    </tr>\n",
              "  </tbody>\n",
              "</table>\n",
              "<p>4055 rows × 2 columns</p>\n",
              "</div>"
            ],
            "text/plain": [
              "      ESTU_DEDICACIONLECTURADIARIA  PUNT_GLOBAL\n",
              "71               Entre 1 y 2 horas          338\n",
              "157             30 minutos o menos          235\n",
              "159     No leo por entretenimiento          268\n",
              "161             30 minutos o menos          188\n",
              "188          Entre 30 y 60 minutos          320\n",
              "...                            ...          ...\n",
              "20871        Entre 30 y 60 minutos          255\n",
              "20873           30 minutos o menos          179\n",
              "20875           30 minutos o menos          232\n",
              "20878   No leo por entretenimiento          247\n",
              "20879           30 minutos o menos          232\n",
              "\n",
              "[4055 rows x 2 columns]"
            ]
          },
          "metadata": {},
          "execution_count": 63
        }
      ]
    },
    {
      "cell_type": "code",
      "metadata": {
        "id": "xQuaMqpshXlF"
      },
      "source": [
        "grouped_data_6 = Base_lec.groupby('ESTU_DEDICACIONLECTURADIARIA')"
      ],
      "execution_count": 64,
      "outputs": []
    },
    {
      "cell_type": "code",
      "metadata": {
        "colab": {
          "base_uri": "https://localhost:8080/",
          "height": 266
        },
        "id": "xgLXYz6u1osw",
        "outputId": "25513738-201b-4ccf-e9c5-fc4e3553fa8b"
      },
      "source": [
        "Base_1.loc[:,['ESTU_DEDICACIONLECTURADIARIA', 'PUNT_GLOBAL']].groupby('ESTU_DEDICACIONLECTURADIARIA').describe()"
      ],
      "execution_count": 74,
      "outputs": [
        {
          "output_type": "execute_result",
          "data": {
            "text/html": [
              "<div>\n",
              "<style scoped>\n",
              "    .dataframe tbody tr th:only-of-type {\n",
              "        vertical-align: middle;\n",
              "    }\n",
              "\n",
              "    .dataframe tbody tr th {\n",
              "        vertical-align: top;\n",
              "    }\n",
              "\n",
              "    .dataframe thead tr th {\n",
              "        text-align: left;\n",
              "    }\n",
              "\n",
              "    .dataframe thead tr:last-of-type th {\n",
              "        text-align: right;\n",
              "    }\n",
              "</style>\n",
              "<table border=\"1\" class=\"dataframe\">\n",
              "  <thead>\n",
              "    <tr>\n",
              "      <th></th>\n",
              "      <th colspan=\"8\" halign=\"left\">PUNT_GLOBAL</th>\n",
              "    </tr>\n",
              "    <tr>\n",
              "      <th></th>\n",
              "      <th>count</th>\n",
              "      <th>mean</th>\n",
              "      <th>std</th>\n",
              "      <th>min</th>\n",
              "      <th>25%</th>\n",
              "      <th>50%</th>\n",
              "      <th>75%</th>\n",
              "      <th>max</th>\n",
              "    </tr>\n",
              "    <tr>\n",
              "      <th>ESTU_DEDICACIONLECTURADIARIA</th>\n",
              "      <th></th>\n",
              "      <th></th>\n",
              "      <th></th>\n",
              "      <th></th>\n",
              "      <th></th>\n",
              "      <th></th>\n",
              "      <th></th>\n",
              "      <th></th>\n",
              "    </tr>\n",
              "  </thead>\n",
              "  <tbody>\n",
              "    <tr>\n",
              "      <th>30 minutos o menos</th>\n",
              "      <td>1530.0</td>\n",
              "      <td>234.176471</td>\n",
              "      <td>48.524295</td>\n",
              "      <td>132.0</td>\n",
              "      <td>196.0</td>\n",
              "      <td>227.0</td>\n",
              "      <td>267.00</td>\n",
              "      <td>390.0</td>\n",
              "    </tr>\n",
              "    <tr>\n",
              "      <th>Entre 1 y 2 horas</th>\n",
              "      <td>372.0</td>\n",
              "      <td>255.424731</td>\n",
              "      <td>57.222385</td>\n",
              "      <td>123.0</td>\n",
              "      <td>211.5</td>\n",
              "      <td>249.5</td>\n",
              "      <td>298.00</td>\n",
              "      <td>389.0</td>\n",
              "    </tr>\n",
              "    <tr>\n",
              "      <th>Entre 30 y 60 minutos</th>\n",
              "      <td>1038.0</td>\n",
              "      <td>257.345857</td>\n",
              "      <td>54.483751</td>\n",
              "      <td>136.0</td>\n",
              "      <td>213.0</td>\n",
              "      <td>252.0</td>\n",
              "      <td>297.75</td>\n",
              "      <td>422.0</td>\n",
              "    </tr>\n",
              "    <tr>\n",
              "      <th>No leo por entretenimiento</th>\n",
              "      <td>972.0</td>\n",
              "      <td>225.829218</td>\n",
              "      <td>48.404956</td>\n",
              "      <td>135.0</td>\n",
              "      <td>191.0</td>\n",
              "      <td>217.0</td>\n",
              "      <td>252.00</td>\n",
              "      <td>405.0</td>\n",
              "    </tr>\n",
              "    <tr>\n",
              "      <th>mas de 2 horas</th>\n",
              "      <td>143.0</td>\n",
              "      <td>272.000000</td>\n",
              "      <td>48.959167</td>\n",
              "      <td>143.0</td>\n",
              "      <td>240.5</td>\n",
              "      <td>273.0</td>\n",
              "      <td>308.00</td>\n",
              "      <td>387.0</td>\n",
              "    </tr>\n",
              "  </tbody>\n",
              "</table>\n",
              "</div>"
            ],
            "text/plain": [
              "                             PUNT_GLOBAL              ...               \n",
              "                                   count        mean  ...     75%    max\n",
              "ESTU_DEDICACIONLECTURADIARIA                          ...               \n",
              "30 minutos o menos                1530.0  234.176471  ...  267.00  390.0\n",
              "Entre 1 y 2 horas                  372.0  255.424731  ...  298.00  389.0\n",
              "Entre 30 y 60 minutos             1038.0  257.345857  ...  297.75  422.0\n",
              "No leo por entretenimiento         972.0  225.829218  ...  252.00  405.0\n",
              "mas de 2 horas                     143.0  272.000000  ...  308.00  387.0\n",
              "\n",
              "[5 rows x 8 columns]"
            ]
          },
          "metadata": {},
          "execution_count": 74
        }
      ]
    },
    {
      "cell_type": "code",
      "metadata": {
        "colab": {
          "base_uri": "https://localhost:8080/",
          "height": 266
        },
        "id": "pEtoP-Byhejr",
        "outputId": "957c4e66-e763-44d5-916a-fd10972712f4"
      },
      "source": [
        "grouped_data_6.describe()"
      ],
      "execution_count": 65,
      "outputs": [
        {
          "output_type": "execute_result",
          "data": {
            "text/html": [
              "<div>\n",
              "<style scoped>\n",
              "    .dataframe tbody tr th:only-of-type {\n",
              "        vertical-align: middle;\n",
              "    }\n",
              "\n",
              "    .dataframe tbody tr th {\n",
              "        vertical-align: top;\n",
              "    }\n",
              "\n",
              "    .dataframe thead tr th {\n",
              "        text-align: left;\n",
              "    }\n",
              "\n",
              "    .dataframe thead tr:last-of-type th {\n",
              "        text-align: right;\n",
              "    }\n",
              "</style>\n",
              "<table border=\"1\" class=\"dataframe\">\n",
              "  <thead>\n",
              "    <tr>\n",
              "      <th></th>\n",
              "      <th colspan=\"8\" halign=\"left\">PUNT_GLOBAL</th>\n",
              "    </tr>\n",
              "    <tr>\n",
              "      <th></th>\n",
              "      <th>count</th>\n",
              "      <th>mean</th>\n",
              "      <th>std</th>\n",
              "      <th>min</th>\n",
              "      <th>25%</th>\n",
              "      <th>50%</th>\n",
              "      <th>75%</th>\n",
              "      <th>max</th>\n",
              "    </tr>\n",
              "    <tr>\n",
              "      <th>ESTU_DEDICACIONLECTURADIARIA</th>\n",
              "      <th></th>\n",
              "      <th></th>\n",
              "      <th></th>\n",
              "      <th></th>\n",
              "      <th></th>\n",
              "      <th></th>\n",
              "      <th></th>\n",
              "      <th></th>\n",
              "    </tr>\n",
              "  </thead>\n",
              "  <tbody>\n",
              "    <tr>\n",
              "      <th>30 minutos o menos</th>\n",
              "      <td>1530.0</td>\n",
              "      <td>234.176471</td>\n",
              "      <td>48.524295</td>\n",
              "      <td>132.0</td>\n",
              "      <td>196.0</td>\n",
              "      <td>227.0</td>\n",
              "      <td>267.00</td>\n",
              "      <td>390.0</td>\n",
              "    </tr>\n",
              "    <tr>\n",
              "      <th>Entre 1 y 2 horas</th>\n",
              "      <td>372.0</td>\n",
              "      <td>255.424731</td>\n",
              "      <td>57.222385</td>\n",
              "      <td>123.0</td>\n",
              "      <td>211.5</td>\n",
              "      <td>249.5</td>\n",
              "      <td>298.00</td>\n",
              "      <td>389.0</td>\n",
              "    </tr>\n",
              "    <tr>\n",
              "      <th>Entre 30 y 60 minutos</th>\n",
              "      <td>1038.0</td>\n",
              "      <td>257.345857</td>\n",
              "      <td>54.483751</td>\n",
              "      <td>136.0</td>\n",
              "      <td>213.0</td>\n",
              "      <td>252.0</td>\n",
              "      <td>297.75</td>\n",
              "      <td>422.0</td>\n",
              "    </tr>\n",
              "    <tr>\n",
              "      <th>No leo por entretenimiento</th>\n",
              "      <td>972.0</td>\n",
              "      <td>225.829218</td>\n",
              "      <td>48.404956</td>\n",
              "      <td>135.0</td>\n",
              "      <td>191.0</td>\n",
              "      <td>217.0</td>\n",
              "      <td>252.00</td>\n",
              "      <td>405.0</td>\n",
              "    </tr>\n",
              "    <tr>\n",
              "      <th>mas de 2 horas</th>\n",
              "      <td>143.0</td>\n",
              "      <td>272.000000</td>\n",
              "      <td>48.959167</td>\n",
              "      <td>143.0</td>\n",
              "      <td>240.5</td>\n",
              "      <td>273.0</td>\n",
              "      <td>308.00</td>\n",
              "      <td>387.0</td>\n",
              "    </tr>\n",
              "  </tbody>\n",
              "</table>\n",
              "</div>"
            ],
            "text/plain": [
              "                             PUNT_GLOBAL              ...               \n",
              "                                   count        mean  ...     75%    max\n",
              "ESTU_DEDICACIONLECTURADIARIA                          ...               \n",
              "30 minutos o menos                1530.0  234.176471  ...  267.00  390.0\n",
              "Entre 1 y 2 horas                  372.0  255.424731  ...  298.00  389.0\n",
              "Entre 30 y 60 minutos             1038.0  257.345857  ...  297.75  422.0\n",
              "No leo por entretenimiento         972.0  225.829218  ...  252.00  405.0\n",
              "mas de 2 horas                     143.0  272.000000  ...  308.00  387.0\n",
              "\n",
              "[5 rows x 8 columns]"
            ]
          },
          "metadata": {},
          "execution_count": 65
        }
      ]
    },
    {
      "cell_type": "code",
      "metadata": {
        "id": "ixPyuL6QLaMX"
      },
      "source": [
        "#Solo el 3.51% de los estudiantes lee mas de dos horas.\n",
        "#El 61,64% de los estudiantes no leen o leen menos de 30 minutos."
      ],
      "execution_count": null,
      "outputs": []
    },
    {
      "cell_type": "code",
      "metadata": {
        "id": "1MrDLtH8IDYX"
      },
      "source": [
        "cc3 = ['30 minutos o menos', 'Entre 1 y 2 horas', 'Entre 30 y 60 minutos','No leo por entretenimiento','mas de 2 horas']\n",
        "data3 = [234.176471\t,255.424731,257.345857,225.829218,272.000000]"
      ],
      "execution_count": 59,
      "outputs": []
    },
    {
      "cell_type": "code",
      "metadata": {
        "colab": {
          "base_uri": "https://localhost:8080/",
          "height": 204
        },
        "id": "6TzIWHcJvOib",
        "outputId": "21efa8f5-6254-4cd9-a471-ce4e5be5de84"
      },
      "source": [
        "pd.DataFrame(list({'30 minutos o menos': 234.176471, 'Entre 1 y 2 horas':255.424731, 'Entre 30 y 60 minutos':257.345857,\n",
        "                   'No leo por entretenimiento':225.829218,'mas de 2 horas':272.000000}.items()),\n",
        "             columns=['LECTURA', 'PUNTAJE'])"
      ],
      "execution_count": 66,
      "outputs": [
        {
          "output_type": "execute_result",
          "data": {
            "text/html": [
              "<div>\n",
              "<style scoped>\n",
              "    .dataframe tbody tr th:only-of-type {\n",
              "        vertical-align: middle;\n",
              "    }\n",
              "\n",
              "    .dataframe tbody tr th {\n",
              "        vertical-align: top;\n",
              "    }\n",
              "\n",
              "    .dataframe thead th {\n",
              "        text-align: right;\n",
              "    }\n",
              "</style>\n",
              "<table border=\"1\" class=\"dataframe\">\n",
              "  <thead>\n",
              "    <tr style=\"text-align: right;\">\n",
              "      <th></th>\n",
              "      <th>LECTURA</th>\n",
              "      <th>PUNTAJE</th>\n",
              "    </tr>\n",
              "  </thead>\n",
              "  <tbody>\n",
              "    <tr>\n",
              "      <th>0</th>\n",
              "      <td>30 minutos o menos</td>\n",
              "      <td>234.176471</td>\n",
              "    </tr>\n",
              "    <tr>\n",
              "      <th>1</th>\n",
              "      <td>Entre 1 y 2 horas</td>\n",
              "      <td>255.424731</td>\n",
              "    </tr>\n",
              "    <tr>\n",
              "      <th>2</th>\n",
              "      <td>Entre 30 y 60 minutos</td>\n",
              "      <td>257.345857</td>\n",
              "    </tr>\n",
              "    <tr>\n",
              "      <th>3</th>\n",
              "      <td>No leo por entretenimiento</td>\n",
              "      <td>225.829218</td>\n",
              "    </tr>\n",
              "    <tr>\n",
              "      <th>4</th>\n",
              "      <td>mas de 2 horas</td>\n",
              "      <td>272.000000</td>\n",
              "    </tr>\n",
              "  </tbody>\n",
              "</table>\n",
              "</div>"
            ],
            "text/plain": [
              "                      LECTURA     PUNTAJE\n",
              "0          30 minutos o menos  234.176471\n",
              "1           Entre 1 y 2 horas  255.424731\n",
              "2       Entre 30 y 60 minutos  257.345857\n",
              "3  No leo por entretenimiento  225.829218\n",
              "4              mas de 2 horas  272.000000"
            ]
          },
          "metadata": {},
          "execution_count": 66
        }
      ]
    },
    {
      "cell_type": "code",
      "metadata": {
        "colab": {
          "base_uri": "https://localhost:8080/",
          "height": 295
        },
        "id": "lYobSZ2hIZPg",
        "outputId": "65ef3d90-29b8-49c2-c3eb-eea190b752df"
      },
      "source": [
        "plt.barh(cc3,data3, color = ['green'])\n",
        "plt.title('GRAFICO PUNTAJE GLOBAL SEGUN LA CANTIDAD DE HORAS DEDICADAS A LA LECTURA')\n",
        "plt.xlabel('PUNTAJE GLOBAL')\n",
        "plt.ylabel('TIEMPO DE LECTURA')\n",
        "plt.show()"
      ],
      "execution_count": null,
      "outputs": [
        {
          "output_type": "display_data",
          "data": {
            "image/png": "[encoded data removed]",
            "text/plain": [
              "<Figure size 432x288 with 1 Axes>"
            ]
          },
          "metadata": {
            "needs_background": "light"
          }
        }
      ]
    },
    {
      "cell_type": "code",
      "metadata": {
        "id": "IkK_FvD8Kek3"
      },
      "source": [
        "#DE ACUERDO AL GRAFICO ANTERIOR SE PUEDE EVIDENCIAR QUE AQUELLOS QUIENES LEEN MAS DE 2 HORAS TIENEN LA MEJOR PUNTUACION EN EL EXAMEN. \n",
        "#LOS ESTUDIANTES QUE LEEN ENTRE 30 MINUTOS A 2 HORAS TAMBIEN OBTIENEN RESULTADOS MAS ARRIBA QUE EL PROMEDIO\n",
        "#FINALMENTE AQUELLOS INDIVIDUOS QUE NO LEEN POR ENTRETENIMIENTO O QUE LEEN MENOS DE 30 MINUTOS TIENEN LAS PUNTUACIONES MAS BAJAS."
      ],
      "execution_count": null,
      "outputs": []
    },
    {
      "cell_type": "code",
      "metadata": {
        "id": "Dcl5jxITKeb-"
      },
      "source": [
        ""
      ],
      "execution_count": null,
      "outputs": []
    },
    {
      "cell_type": "code",
      "metadata": {
        "id": "bN_RfWSrhhMM"
      },
      "source": [
        "#ESTU_HORASSEMANATRABAJA"
      ],
      "execution_count": null,
      "outputs": []
    },
    {
      "cell_type": "code",
      "metadata": {
        "colab": {
          "base_uri": "https://localhost:8080/",
          "height": 475
        },
        "id": "4kNQBL5SFLpG",
        "outputId": "f9c15343-9e9e-40ea-8bae-2f867ebae33a"
      },
      "source": [
        "Base_1.boxplot(column=\"PUNT_GLOBAL\", by=\"ESTU_HORASSEMANATRABAJA\",\n",
        "\tfigsize=(11,6))\n",
        "plt.show()\n"
      ],
      "execution_count": 86,
      "outputs": [
        {
          "output_type": "stream",
          "name": "stderr",
          "text": [
            "/usr/local/lib/python3.7/dist-packages/numpy/core/_asarray.py:83: VisibleDeprecationWarning: Creating an ndarray from ragged nested sequences (which is a list-or-tuple of lists-or-tuples-or ndarrays with different lengths or shapes) is deprecated. If you meant to do this, you must specify 'dtype=object' when creating the ndarray\n",
            "  return array(a, dtype, copy=False, order=order)\n"
          ]
        },
        {
          "output_type": "display_data",
          "data": {
            "image/png": "[encoded data removed]",
            "text/plain": [
              "<Figure size 792x432 with 1 Axes>"
            ]
          },
          "metadata": {
            "needs_background": "light"
          }
        }
      ]
    },
    {
      "cell_type": "code",
      "metadata": {
        "id": "K2gOxbduktCE"
      },
      "source": [
        "import pandas as pd"
      ],
      "execution_count": null,
      "outputs": []
    },
    {
      "cell_type": "code",
      "metadata": {
        "colab": {
          "base_uri": "https://localhost:8080/",
          "height": 266
        },
        "id": "HQUGF0L01eAa",
        "outputId": "003f980b-7691-4e66-f103-c2574d09fb6f"
      },
      "source": [
        "Base_1.loc[:,['ESTU_HORASSEMANATRABAJA', 'PUNT_GLOBAL']].groupby('ESTU_HORASSEMANATRABAJA').describe()"
      ],
      "execution_count": 87,
      "outputs": [
        {
          "output_type": "execute_result",
          "data": {
            "text/html": [
              "<div>\n",
              "<style scoped>\n",
              "    .dataframe tbody tr th:only-of-type {\n",
              "        vertical-align: middle;\n",
              "    }\n",
              "\n",
              "    .dataframe tbody tr th {\n",
              "        vertical-align: top;\n",
              "    }\n",
              "\n",
              "    .dataframe thead tr th {\n",
              "        text-align: left;\n",
              "    }\n",
              "\n",
              "    .dataframe thead tr:last-of-type th {\n",
              "        text-align: right;\n",
              "    }\n",
              "</style>\n",
              "<table border=\"1\" class=\"dataframe\">\n",
              "  <thead>\n",
              "    <tr>\n",
              "      <th></th>\n",
              "      <th colspan=\"8\" halign=\"left\">PUNT_GLOBAL</th>\n",
              "    </tr>\n",
              "    <tr>\n",
              "      <th></th>\n",
              "      <th>count</th>\n",
              "      <th>mean</th>\n",
              "      <th>std</th>\n",
              "      <th>min</th>\n",
              "      <th>25%</th>\n",
              "      <th>50%</th>\n",
              "      <th>75%</th>\n",
              "      <th>max</th>\n",
              "    </tr>\n",
              "    <tr>\n",
              "      <th>ESTU_HORASSEMANATRABAJA</th>\n",
              "      <th></th>\n",
              "      <th></th>\n",
              "      <th></th>\n",
              "      <th></th>\n",
              "      <th></th>\n",
              "      <th></th>\n",
              "      <th></th>\n",
              "      <th></th>\n",
              "    </tr>\n",
              "  </thead>\n",
              "  <tbody>\n",
              "    <tr>\n",
              "      <th>0</th>\n",
              "      <td>2102.0</td>\n",
              "      <td>255.796860</td>\n",
              "      <td>54.910408</td>\n",
              "      <td>135.0</td>\n",
              "      <td>212.0</td>\n",
              "      <td>251.0</td>\n",
              "      <td>297.00</td>\n",
              "      <td>422.0</td>\n",
              "    </tr>\n",
              "    <tr>\n",
              "      <th>Entre 11 y 20 horas</th>\n",
              "      <td>426.0</td>\n",
              "      <td>227.255869</td>\n",
              "      <td>45.148620</td>\n",
              "      <td>143.0</td>\n",
              "      <td>193.0</td>\n",
              "      <td>220.5</td>\n",
              "      <td>255.75</td>\n",
              "      <td>405.0</td>\n",
              "    </tr>\n",
              "    <tr>\n",
              "      <th>Entre 21 y 30 horas</th>\n",
              "      <td>220.0</td>\n",
              "      <td>231.550000</td>\n",
              "      <td>45.777128</td>\n",
              "      <td>136.0</td>\n",
              "      <td>195.0</td>\n",
              "      <td>228.0</td>\n",
              "      <td>265.00</td>\n",
              "      <td>356.0</td>\n",
              "    </tr>\n",
              "    <tr>\n",
              "      <th>Menos de 10 horas</th>\n",
              "      <td>721.0</td>\n",
              "      <td>226.345354</td>\n",
              "      <td>50.501856</td>\n",
              "      <td>132.0</td>\n",
              "      <td>187.0</td>\n",
              "      <td>216.0</td>\n",
              "      <td>254.00</td>\n",
              "      <td>387.0</td>\n",
              "    </tr>\n",
              "    <tr>\n",
              "      <th>mas de 30 horas</th>\n",
              "      <td>586.0</td>\n",
              "      <td>222.189420</td>\n",
              "      <td>38.717870</td>\n",
              "      <td>123.0</td>\n",
              "      <td>193.0</td>\n",
              "      <td>220.0</td>\n",
              "      <td>248.00</td>\n",
              "      <td>340.0</td>\n",
              "    </tr>\n",
              "  </tbody>\n",
              "</table>\n",
              "</div>"
            ],
            "text/plain": [
              "                        PUNT_GLOBAL              ...               \n",
              "                              count        mean  ...     75%    max\n",
              "ESTU_HORASSEMANATRABAJA                          ...               \n",
              "0                            2102.0  255.796860  ...  297.00  422.0\n",
              "Entre 11 y 20 horas           426.0  227.255869  ...  255.75  405.0\n",
              "Entre 21 y 30 horas           220.0  231.550000  ...  265.00  356.0\n",
              "Menos de 10 horas             721.0  226.345354  ...  254.00  387.0\n",
              "mas de 30 horas               586.0  222.189420  ...  248.00  340.0\n",
              "\n",
              "[5 rows x 8 columns]"
            ]
          },
          "metadata": {},
          "execution_count": 87
        }
      ]
    },
    {
      "cell_type": "code",
      "metadata": {
        "colab": {
          "base_uri": "https://localhost:8080/",
          "height": 180
        },
        "id": "w3wD2_2-iG3j",
        "outputId": "ab663c70-e08b-4635-c111-b55663afdfe7"
      },
      "source": [
        "grouped_data_7 = Base_tra.groupby('ESTU_HORASSEMANATRABAJA')\n",
        "grouped_data_7.describe()"
      ],
      "execution_count": 68,
      "outputs": [
        {
          "output_type": "error",
          "ename": "NameError",
          "evalue": "ignored",
          "traceback": [
            "\u001b[0;31m---------------------------------------------------------------------------\u001b[0m",
            "\u001b[0;31mNameError\u001b[0m                                 Traceback (most recent call last)",
            "\u001b[0;32m<ipython-input-68-85e5728c33af>\u001b[0m in \u001b[0;36m<module>\u001b[0;34m()\u001b[0m\n\u001b[0;32m----> 1\u001b[0;31m \u001b[0mgrouped_data_7\u001b[0m \u001b[0;34m=\u001b[0m \u001b[0mBase_tra\u001b[0m\u001b[0;34m.\u001b[0m\u001b[0mgroupby\u001b[0m\u001b[0;34m(\u001b[0m\u001b[0;34m'ESTU_HORASSEMANATRABAJA'\u001b[0m\u001b[0;34m)\u001b[0m\u001b[0;34m\u001b[0m\u001b[0;34m\u001b[0m\u001b[0m\n\u001b[0m\u001b[1;32m      2\u001b[0m \u001b[0mgrouped_data_7\u001b[0m\u001b[0;34m.\u001b[0m\u001b[0mdescribe\u001b[0m\u001b[0;34m(\u001b[0m\u001b[0;34m)\u001b[0m\u001b[0;34m\u001b[0m\u001b[0;34m\u001b[0m\u001b[0m\n",
            "\u001b[0;31mNameError\u001b[0m: name 'Base_tra' is not defined"
          ]
        }
      ]
    },
    {
      "cell_type": "code",
      "metadata": {
        "id": "D-alB9lLL22t"
      },
      "source": [
        "#DE ACUERDO A LA TABLA ANTERIOR SE PUEDE DECIR QUE AQUELLOS QUIENES NO TRABAJAN TIENEN EN PROMEDIO EL PUNTAJE MAS ALTO\n",
        "#A COMPARACION DE QUIENES SI TRABAJAN. EL PUNTAJE MAS BAJO CORRESPONDE A QUIENES TRABAJAN MAS DE 30 HORAS A LA SEMANA."
      ],
      "execution_count": null,
      "outputs": []
    },
    {
      "cell_type": "code",
      "metadata": {
        "id": "g-JCkEEziRlQ"
      },
      "source": [
        "#COLE_BILINGUE"
      ],
      "execution_count": null,
      "outputs": []
    },
    {
      "cell_type": "code",
      "metadata": {
        "colab": {
          "base_uri": "https://localhost:8080/",
          "height": 419
        },
        "id": "yuIgD2unifIC",
        "outputId": "3804a819-0aeb-43cc-f8a9-cd64a2cacd5e"
      },
      "source": [
        "Base_bil = Base_1.loc[:,['COLE_BILINGUE', 'PUNT_GLOBAL']]\n",
        "Base_bil"
      ],
      "execution_count": 75,
      "outputs": [
        {
          "output_type": "execute_result",
          "data": {
            "text/html": [
              "<div>\n",
              "<style scoped>\n",
              "    .dataframe tbody tr th:only-of-type {\n",
              "        vertical-align: middle;\n",
              "    }\n",
              "\n",
              "    .dataframe tbody tr th {\n",
              "        vertical-align: top;\n",
              "    }\n",
              "\n",
              "    .dataframe thead th {\n",
              "        text-align: right;\n",
              "    }\n",
              "</style>\n",
              "<table border=\"1\" class=\"dataframe\">\n",
              "  <thead>\n",
              "    <tr style=\"text-align: right;\">\n",
              "      <th></th>\n",
              "      <th>COLE_BILINGUE</th>\n",
              "      <th>PUNT_GLOBAL</th>\n",
              "    </tr>\n",
              "  </thead>\n",
              "  <tbody>\n",
              "    <tr>\n",
              "      <th>71</th>\n",
              "      <td>S</td>\n",
              "      <td>338</td>\n",
              "    </tr>\n",
              "    <tr>\n",
              "      <th>157</th>\n",
              "      <td>N</td>\n",
              "      <td>235</td>\n",
              "    </tr>\n",
              "    <tr>\n",
              "      <th>159</th>\n",
              "      <td>N</td>\n",
              "      <td>268</td>\n",
              "    </tr>\n",
              "    <tr>\n",
              "      <th>161</th>\n",
              "      <td>N</td>\n",
              "      <td>188</td>\n",
              "    </tr>\n",
              "    <tr>\n",
              "      <th>188</th>\n",
              "      <td>N</td>\n",
              "      <td>320</td>\n",
              "    </tr>\n",
              "    <tr>\n",
              "      <th>...</th>\n",
              "      <td>...</td>\n",
              "      <td>...</td>\n",
              "    </tr>\n",
              "    <tr>\n",
              "      <th>20871</th>\n",
              "      <td>N</td>\n",
              "      <td>255</td>\n",
              "    </tr>\n",
              "    <tr>\n",
              "      <th>20873</th>\n",
              "      <td>N</td>\n",
              "      <td>179</td>\n",
              "    </tr>\n",
              "    <tr>\n",
              "      <th>20875</th>\n",
              "      <td>N</td>\n",
              "      <td>232</td>\n",
              "    </tr>\n",
              "    <tr>\n",
              "      <th>20878</th>\n",
              "      <td>N</td>\n",
              "      <td>247</td>\n",
              "    </tr>\n",
              "    <tr>\n",
              "      <th>20879</th>\n",
              "      <td>N</td>\n",
              "      <td>232</td>\n",
              "    </tr>\n",
              "  </tbody>\n",
              "</table>\n",
              "<p>4055 rows × 2 columns</p>\n",
              "</div>"
            ],
            "text/plain": [
              "      COLE_BILINGUE  PUNT_GLOBAL\n",
              "71                S          338\n",
              "157               N          235\n",
              "159               N          268\n",
              "161               N          188\n",
              "188               N          320\n",
              "...             ...          ...\n",
              "20871             N          255\n",
              "20873             N          179\n",
              "20875             N          232\n",
              "20878             N          247\n",
              "20879             N          232\n",
              "\n",
              "[4055 rows x 2 columns]"
            ]
          },
          "metadata": {},
          "execution_count": 75
        }
      ]
    },
    {
      "cell_type": "code",
      "metadata": {
        "colab": {
          "base_uri": "https://localhost:8080/",
          "height": 173
        },
        "id": "Bd8clh9pMVgP",
        "outputId": "4ba25880-10f1-45dd-98e2-bd7d903b034b"
      },
      "source": [
        "grouped_data_8 = Base_bil.groupby('COLE_BILINGUE')\n",
        "grouped_data_8.describe()"
      ],
      "execution_count": 76,
      "outputs": [
        {
          "output_type": "execute_result",
          "data": {
            "text/html": [
              "<div>\n",
              "<style scoped>\n",
              "    .dataframe tbody tr th:only-of-type {\n",
              "        vertical-align: middle;\n",
              "    }\n",
              "\n",
              "    .dataframe tbody tr th {\n",
              "        vertical-align: top;\n",
              "    }\n",
              "\n",
              "    .dataframe thead tr th {\n",
              "        text-align: left;\n",
              "    }\n",
              "\n",
              "    .dataframe thead tr:last-of-type th {\n",
              "        text-align: right;\n",
              "    }\n",
              "</style>\n",
              "<table border=\"1\" class=\"dataframe\">\n",
              "  <thead>\n",
              "    <tr>\n",
              "      <th></th>\n",
              "      <th colspan=\"8\" halign=\"left\">PUNT_GLOBAL</th>\n",
              "    </tr>\n",
              "    <tr>\n",
              "      <th></th>\n",
              "      <th>count</th>\n",
              "      <th>mean</th>\n",
              "      <th>std</th>\n",
              "      <th>min</th>\n",
              "      <th>25%</th>\n",
              "      <th>50%</th>\n",
              "      <th>75%</th>\n",
              "      <th>max</th>\n",
              "    </tr>\n",
              "    <tr>\n",
              "      <th>COLE_BILINGUE</th>\n",
              "      <th></th>\n",
              "      <th></th>\n",
              "      <th></th>\n",
              "      <th></th>\n",
              "      <th></th>\n",
              "      <th></th>\n",
              "      <th></th>\n",
              "      <th></th>\n",
              "    </tr>\n",
              "  </thead>\n",
              "  <tbody>\n",
              "    <tr>\n",
              "      <th>N</th>\n",
              "      <td>3974.0</td>\n",
              "      <td>240.578510</td>\n",
              "      <td>52.004300</td>\n",
              "      <td>123.0</td>\n",
              "      <td>200.0</td>\n",
              "      <td>234.0</td>\n",
              "      <td>277.0</td>\n",
              "      <td>422.0</td>\n",
              "    </tr>\n",
              "    <tr>\n",
              "      <th>S</th>\n",
              "      <td>81.0</td>\n",
              "      <td>281.185185</td>\n",
              "      <td>72.423254</td>\n",
              "      <td>152.0</td>\n",
              "      <td>206.0</td>\n",
              "      <td>293.0</td>\n",
              "      <td>344.0</td>\n",
              "      <td>405.0</td>\n",
              "    </tr>\n",
              "  </tbody>\n",
              "</table>\n",
              "</div>"
            ],
            "text/plain": [
              "              PUNT_GLOBAL                         ...                     \n",
              "                    count        mean        std  ...    50%    75%    max\n",
              "COLE_BILINGUE                                     ...                     \n",
              "N                  3974.0  240.578510  52.004300  ...  234.0  277.0  422.0\n",
              "S                    81.0  281.185185  72.423254  ...  293.0  344.0  405.0\n",
              "\n",
              "[2 rows x 8 columns]"
            ]
          },
          "metadata": {},
          "execution_count": 76
        }
      ]
    },
    {
      "cell_type": "code",
      "metadata": {
        "id": "nwpAV06MMVci"
      },
      "source": [
        "cc4 = ['SI', 'NO']\n",
        "data4 = [281.185185,240.578510]"
      ],
      "execution_count": null,
      "outputs": []
    },
    {
      "cell_type": "code",
      "metadata": {
        "colab": {
          "base_uri": "https://localhost:8080/",
          "height": 278
        },
        "id": "z6G0j0R2MVY1",
        "outputId": "e05cda8d-2e24-4732-ba7d-16085ceba105"
      },
      "source": [
        "plt.pie(data4, labels=cc4, colors=['orange','green'])\n",
        "plt.title('GRAFICO PUNTAJE GLOBAL SEGUN SI EL ESTABLECIMIENTO ES BILINGUE')\n",
        "plt.xlabel('¿EL ESTABLECIMIENTO ES BILINGUE?')\n",
        "plt.show()"
      ],
      "execution_count": null,
      "outputs": [
        {
          "output_type": "display_data",
          "data": {
            "image/png": "[encoded data removed]",
            "text/plain": [
              "<Figure size 432x288 with 1 Axes>"
            ]
          },
          "metadata": {}
        }
      ]
    },
    {
      "cell_type": "code",
      "metadata": {
        "id": "ATyMMdeCNIVG"
      },
      "source": [
        "#DE ACUERDO AL TIPO DE ESTABLECIMIENTO SE PUEDE EVIDENCIAR QUE, AQUELLOS ESTUDIANTES QUIENES PROVIENEN DE UN \n",
        "#ESTABLECIMIENTO BILINGUE TIENEN UN PUNTAJE MAS ELEVADO. APROXIMADAMENTE 42 PUNTOS MAS. APROXIMADAMENTE EL 98% DE LOS ESTUDIANTES PERTENECEN A COLEGIOS QUE NO SON BILINGUES MIENTRAS QUE EL RESTANTE 2% SI."
      ],
      "execution_count": null,
      "outputs": []
    },
    {
      "cell_type": "code",
      "metadata": {
        "id": "DxNTnBgzNtiQ"
      },
      "source": [
        ""
      ],
      "execution_count": null,
      "outputs": []
    },
    {
      "cell_type": "code",
      "metadata": {
        "id": "KTZmP7DEN1Ez"
      },
      "source": [
        "#ALIMENTACION"
      ],
      "execution_count": null,
      "outputs": []
    },
    {
      "cell_type": "code",
      "metadata": {
        "colab": {
          "base_uri": "https://localhost:8080/",
          "height": 235
        },
        "id": "Fgz08YnvDsBs",
        "outputId": "3d097fc3-0b0b-4d39-a69f-dcd7ce8cc7b7"
      },
      "source": [
        "Base_1.loc[:,['FAMI_COMECARNEPESCADOHUEVO', 'PUNT_GLOBAL']].groupby('FAMI_COMECARNEPESCADOHUEVO').describe()"
      ],
      "execution_count": 80,
      "outputs": [
        {
          "output_type": "execute_result",
          "data": {
            "text/html": [
              "<div>\n",
              "<style scoped>\n",
              "    .dataframe tbody tr th:only-of-type {\n",
              "        vertical-align: middle;\n",
              "    }\n",
              "\n",
              "    .dataframe tbody tr th {\n",
              "        vertical-align: top;\n",
              "    }\n",
              "\n",
              "    .dataframe thead tr th {\n",
              "        text-align: left;\n",
              "    }\n",
              "\n",
              "    .dataframe thead tr:last-of-type th {\n",
              "        text-align: right;\n",
              "    }\n",
              "</style>\n",
              "<table border=\"1\" class=\"dataframe\">\n",
              "  <thead>\n",
              "    <tr>\n",
              "      <th></th>\n",
              "      <th colspan=\"8\" halign=\"left\">PUNT_GLOBAL</th>\n",
              "    </tr>\n",
              "    <tr>\n",
              "      <th></th>\n",
              "      <th>count</th>\n",
              "      <th>mean</th>\n",
              "      <th>std</th>\n",
              "      <th>min</th>\n",
              "      <th>25%</th>\n",
              "      <th>50%</th>\n",
              "      <th>75%</th>\n",
              "      <th>max</th>\n",
              "    </tr>\n",
              "    <tr>\n",
              "      <th>FAMI_COMECARNEPESCADOHUEVO</th>\n",
              "      <th></th>\n",
              "      <th></th>\n",
              "      <th></th>\n",
              "      <th></th>\n",
              "      <th></th>\n",
              "      <th></th>\n",
              "      <th></th>\n",
              "      <th></th>\n",
              "    </tr>\n",
              "  </thead>\n",
              "  <tbody>\n",
              "    <tr>\n",
              "      <th>1 o 2 veces por semana</th>\n",
              "      <td>907.0</td>\n",
              "      <td>228.608600</td>\n",
              "      <td>47.792114</td>\n",
              "      <td>140.0</td>\n",
              "      <td>192.00</td>\n",
              "      <td>221.0</td>\n",
              "      <td>258.50</td>\n",
              "      <td>402.0</td>\n",
              "    </tr>\n",
              "    <tr>\n",
              "      <th>3 a 5 veces por semana</th>\n",
              "      <td>1190.0</td>\n",
              "      <td>243.470588</td>\n",
              "      <td>52.072332</td>\n",
              "      <td>132.0</td>\n",
              "      <td>205.00</td>\n",
              "      <td>235.0</td>\n",
              "      <td>278.00</td>\n",
              "      <td>403.0</td>\n",
              "    </tr>\n",
              "    <tr>\n",
              "      <th>Nunca o rara vez comemos eso</th>\n",
              "      <td>196.0</td>\n",
              "      <td>226.846939</td>\n",
              "      <td>55.698612</td>\n",
              "      <td>123.0</td>\n",
              "      <td>183.75</td>\n",
              "      <td>211.5</td>\n",
              "      <td>260.50</td>\n",
              "      <td>405.0</td>\n",
              "    </tr>\n",
              "    <tr>\n",
              "      <th>Todos o casi todos los dias</th>\n",
              "      <td>1762.0</td>\n",
              "      <td>248.181044</td>\n",
              "      <td>53.925366</td>\n",
              "      <td>137.0</td>\n",
              "      <td>205.00</td>\n",
              "      <td>242.0</td>\n",
              "      <td>285.75</td>\n",
              "      <td>422.0</td>\n",
              "    </tr>\n",
              "  </tbody>\n",
              "</table>\n",
              "</div>"
            ],
            "text/plain": [
              "                             PUNT_GLOBAL              ...               \n",
              "                                   count        mean  ...     75%    max\n",
              "FAMI_COMECARNEPESCADOHUEVO                            ...               \n",
              "1 o 2 veces por semana             907.0  228.608600  ...  258.50  402.0\n",
              "3 a 5 veces por semana            1190.0  243.470588  ...  278.00  403.0\n",
              "Nunca o rara vez comemos eso       196.0  226.846939  ...  260.50  405.0\n",
              "Todos o casi todos los dias       1762.0  248.181044  ...  285.75  422.0\n",
              "\n",
              "[4 rows x 8 columns]"
            ]
          },
          "metadata": {},
          "execution_count": 80
        }
      ]
    },
    {
      "cell_type": "code",
      "metadata": {
        "id": "V8w_sH94OCTS"
      },
      "source": [
        "#LA PROTEINA COMO LA CARNE, EL PESCADO, EL HUEVO Y POLLO SON IMPORTANTES PARA EL DESARROLLO DEL CEREBRO. \n",
        "#AQUELLOS ESTUDIANTES QUIENES NO COMEN AQUELLAS PROTEINAS O SE ALIMENTAN DE ELLAS 1 O 2 VECES A LA SEMANA TIENEN REDIMIENTOS MAS BAJOS.\n",
        "#APROXIMADAMENTE EL 27,1% PERTENECE A LA POBLACION ANTERIORMENTE NOMBRADA.\n",
        "#POR OTRO LADO, LOS INDIVIDUOS QUIENES COMEN 3 O 5 VECES POR SEMANA, INCLUSO AQUELLOS QUE SE ALIMENTAN DE ESTAS PROTEINAS\n",
        "#TODOS LOS DIAS TIENEN LOS MEJORES PUNTAJES. APROXIMADAMENTE EL 72,9% PERTENECE A ESTA POBLACION. "
      ],
      "execution_count": null,
      "outputs": []
    },
    {
      "cell_type": "code",
      "metadata": {
        "id": "h-1cWT4XPbhi"
      },
      "source": [
        "#COLE_NATURALEZA"
      ],
      "execution_count": 77,
      "outputs": []
    },
    {
      "cell_type": "code",
      "metadata": {
        "id": "M0GWq4fwN06F"
      },
      "source": [
        "Base_cole = Base_1.loc[:,['COLE_NATURALEZA', 'PUNT_GLOBAL']]\n"
      ],
      "execution_count": 78,
      "outputs": []
    },
    {
      "cell_type": "code",
      "metadata": {
        "colab": {
          "base_uri": "https://localhost:8080/",
          "height": 173
        },
        "id": "jUJKCTOON01s",
        "outputId": "2716223b-eaf9-41d2-b871-5ff35801c812"
      },
      "source": [
        "grouped_data_10 = Base_cole.groupby('COLE_NATURALEZA')\n",
        "grouped_data_10.describe()"
      ],
      "execution_count": 79,
      "outputs": [
        {
          "output_type": "execute_result",
          "data": {
            "text/html": [
              "<div>\n",
              "<style scoped>\n",
              "    .dataframe tbody tr th:only-of-type {\n",
              "        vertical-align: middle;\n",
              "    }\n",
              "\n",
              "    .dataframe tbody tr th {\n",
              "        vertical-align: top;\n",
              "    }\n",
              "\n",
              "    .dataframe thead tr th {\n",
              "        text-align: left;\n",
              "    }\n",
              "\n",
              "    .dataframe thead tr:last-of-type th {\n",
              "        text-align: right;\n",
              "    }\n",
              "</style>\n",
              "<table border=\"1\" class=\"dataframe\">\n",
              "  <thead>\n",
              "    <tr>\n",
              "      <th></th>\n",
              "      <th colspan=\"8\" halign=\"left\">PUNT_GLOBAL</th>\n",
              "    </tr>\n",
              "    <tr>\n",
              "      <th></th>\n",
              "      <th>count</th>\n",
              "      <th>mean</th>\n",
              "      <th>std</th>\n",
              "      <th>min</th>\n",
              "      <th>25%</th>\n",
              "      <th>50%</th>\n",
              "      <th>75%</th>\n",
              "      <th>max</th>\n",
              "    </tr>\n",
              "    <tr>\n",
              "      <th>COLE_NATURALEZA</th>\n",
              "      <th></th>\n",
              "      <th></th>\n",
              "      <th></th>\n",
              "      <th></th>\n",
              "      <th></th>\n",
              "      <th></th>\n",
              "      <th></th>\n",
              "      <th></th>\n",
              "    </tr>\n",
              "  </thead>\n",
              "  <tbody>\n",
              "    <tr>\n",
              "      <th>NO OFICIAL</th>\n",
              "      <td>3527.0</td>\n",
              "      <td>245.289198</td>\n",
              "      <td>53.579318</td>\n",
              "      <td>123.0</td>\n",
              "      <td>203.0</td>\n",
              "      <td>239.0</td>\n",
              "      <td>282.0</td>\n",
              "      <td>422.0</td>\n",
              "    </tr>\n",
              "    <tr>\n",
              "      <th>OFICIAL</th>\n",
              "      <td>528.0</td>\n",
              "      <td>215.340909</td>\n",
              "      <td>38.003561</td>\n",
              "      <td>135.0</td>\n",
              "      <td>188.0</td>\n",
              "      <td>209.0</td>\n",
              "      <td>239.0</td>\n",
              "      <td>344.0</td>\n",
              "    </tr>\n",
              "  </tbody>\n",
              "</table>\n",
              "</div>"
            ],
            "text/plain": [
              "                PUNT_GLOBAL                         ...                     \n",
              "                      count        mean        std  ...    50%    75%    max\n",
              "COLE_NATURALEZA                                     ...                     \n",
              "NO OFICIAL           3527.0  245.289198  53.579318  ...  239.0  282.0  422.0\n",
              "OFICIAL               528.0  215.340909  38.003561  ...  209.0  239.0  344.0\n",
              "\n",
              "[2 rows x 8 columns]"
            ]
          },
          "metadata": {},
          "execution_count": 79
        }
      ]
    },
    {
      "cell_type": "code",
      "metadata": {
        "id": "4j1VQ99YP2-s"
      },
      "source": [
        "cc6 = ['NO OFICIAL', 'OFICIAL']\n",
        "data6 = [245.289198\t,215.340909]"
      ],
      "execution_count": null,
      "outputs": []
    },
    {
      "cell_type": "code",
      "metadata": {
        "id": "y2-0ATQ7Cd1o"
      },
      "source": [
        "{'NO OFICIAL': 245.289198, 'OFICIAL':215.340909}"
      ],
      "execution_count": null,
      "outputs": []
    },
    {
      "cell_type": "code",
      "metadata": {
        "colab": {
          "base_uri": "https://localhost:8080/",
          "height": 295
        },
        "id": "nL36QfXSS5R4",
        "outputId": "a960cc59-317b-4406-a71f-9989ecd7f8fe"
      },
      "source": [
        "plt.bar(cc6,data6, color=['orange','green'])\n",
        "plt.title('GRAFICO PUNTAJE GLOBAL SEGUN LA NATURALEZA DEL COLEGIO')\n",
        "plt.xlabel('NATURALEZA')\n",
        "plt.ylabel('PUNTAJE GLOBAL')\n",
        "plt.show()"
      ],
      "execution_count": null,
      "outputs": [
        {
          "output_type": "display_data",
          "data": {
            "image/png": "[encoded data removed]",
            "text/plain": [
              "<Figure size 432x288 with 1 Axes>"
            ]
          },
          "metadata": {
            "needs_background": "light"
          }
        }
      ]
    },
    {
      "cell_type": "code",
      "metadata": {
        "id": "-Y807m6AS9LK"
      },
      "source": [
        "#SE PUEDE APRECIAR QUE, AQUELLOS ESTUDIANTES QUE PROVIENEN DE COLEGIOS NO OFICIALES TIENEN UNA PUNTUACION MAS ALTA EN EL EXAMEN.\n",
        "#APROXIMADAMENTE EL 87% DE LOS INDIVIDUOS PROVIENEN DE COLEGIOS NO OFICIALES."
      ],
      "execution_count": null,
      "outputs": []
    },
    {
      "cell_type": "code",
      "metadata": {
        "id": "LZptsxVwlq_8"
      },
      "source": [
        "X = Base_1.filter(['EDAD','ESTU_GENERO','ESTU_DEPTO_RESIDE','FAMI_EDUCACIONPADRE','FAMI_EDUCACIONMADRE','FAMI_TIENEINTERNET','FAMI_TIENECOMPUTADOR',\n",
        "'ESTU_DEDICACIONLECTURADIARIA', 'ESTU_HORASSEMANATRABAJA','COLE_BILINGUE', 'FAMI_COMECARNEPESCADOHUEVO','COLE_NATURALEZA'])"
      ],
      "execution_count": null,
      "outputs": []
    },
    {
      "cell_type": "code",
      "metadata": {
        "id": "Qo5IB2HwnNCh"
      },
      "source": [
        "Y= Base_1.filter(['PUNT_GLOBAL'])"
      ],
      "execution_count": null,
      "outputs": []
    }
  ]
}